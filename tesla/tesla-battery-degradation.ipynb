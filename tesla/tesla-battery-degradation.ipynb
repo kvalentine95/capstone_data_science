{
 "cells": [
  {
   "cell_type": "markdown",
   "metadata": {},
   "source": [
    "<h1>Tesla Battery Degradation</h1>"
   ]
  },
  {
   "cell_type": "markdown",
   "metadata": {},
   "source": [
    "Every Tesla driver is provided with a warranty for battery failure which doesn’t cover degradation. Degradation is equivalent to the decrease in battery capacity over time which leads to the decrease in range (miles) that a Tesla driver can drive before he has to re-charge his battery again. The provided data set includes data collected from Tesla owners in US, Canada, and Asia/Europe. It includes information about the battery capacity change with respect to time, average mileage per day, lifetime average energy consumption, and the change in the remaining range of the battery. The purpose of this project is determine whether the battery degradation takes place and how much it affects the car range with respect to time."
   ]
  },
  {
   "cell_type": "markdown",
   "metadata": {},
   "source": [
    "<h2>Dataset</h2>"
   ]
  },
  {
   "cell_type": "markdown",
   "metadata": {},
   "source": [
    "The data is available in the form of a survey provided by Tesla drivers in US, Canada, and Asia/Europe and posted at https://docs.google.com/spreadsheets/d/t024bMoRiDPIDialGnuKPsg/edit#gid=1669966328"
   ]
  },
  {
   "cell_type": "markdown",
   "metadata": {},
   "source": [
    "The columns in the original data set have very long titles and were renamed for convenience. Here is the list of columns available in the original .xlsx file: "
   ]
  },
  {
   "cell_type": "markdown",
   "metadata": {},
   "source": [
    "<table>\n",
    "    <tr style=\"text-align: center;\">\n",
    "        <th style=\"text-align: left; font-size: 14px;\">column name</th>\n",
    "        <th style=\"text-align: left; font-size: 14px;\">description</th>\n",
    "        <th style=\"text-align: left; font-size: 14px;\">type of survey information</th>\n",
    "    </tr>\n",
    "    <tr style=\"text-align: center;\">\n",
    "        <th style=\"text-align: left; font-size: 14px;\">id</th>\n",
    "        <th style=\"text-align: left; font-size: 14px;\">user ID</th>\n",
    "        <th style=\"text-align: left; font-size: 14px;\">required</th>\n",
    "    </tr>\n",
    "    <tr style=\"text-align: center;\">\n",
    "        <th style=\"text-align: left; font-size: 14px;\">username</th>\n",
    "        <th style=\"text-align: left; font-size: 14px;\">Username (can be anything inoffensive)</th>\n",
    "        <th style=\"text-align: left; font-size: 14px;\">required</th>\n",
    "    </tr>\n",
    "    <tr style=\"text-align: center;\">\n",
    "        <th style=\"text-align: left; font-size: 14px;\">location</th>\n",
    "        <th style=\"text-align: left; font-size: 14px;\">Location (Asia & Europe, USA, Canada, or UK) </th>\n",
    "        <th style=\"text-align: left; font-size: 14px;\">required</th>\n",
    "    </tr>\n",
    "    <tr style=\"text-align: center;\">\n",
    "        <th style=\"text-align: left; font-size: 14px;\">manufacture_date</th>\n",
    "        <th style=\"text-align: left; font-size: 14px;\">date of car manufacturing</th>\n",
    "        <th style=\"text-align: left; font-size: 14px;\">required</th>\n",
    "    </tr>\n",
    "    <tr style=\"text-align: center;\">\n",
    "        <th style=\"text-align: left; font-size: 14px;\">range_reading_date</th>\n",
    "        <th style=\"text-align: left; font-size: 14px;\">date when the measurements were taken</th>\n",
    "        <th style=\"text-align: left; font-size: 14px;\">required</th>\n",
    "    </tr>\n",
    "    <tr style=\"text-align: center;\">\n",
    "        <th style=\"text-align: left; font-size: 14px;\">model</th>\n",
    "        <th style=\"text-align: left; font-size: 14px;\">Type of Tesla model S (numbers reflect battery capacity), P stands for performance (higher HP), and D stand for higher range (usually up to 10 miles)</th>\n",
    "        <th style=\"text-align: left; font-size: 14px;\">required</th>\n",
    "    </tr>\n",
    "    <tr style=\"text-align: center;\">\n",
    "        <th style=\"text-align: left; font-size: 14px;\">mileage</th>\n",
    "        <th style=\"text-align: left; font-size: 14px;\">Car mileage in miles (or km) </th>\n",
    "        <th style=\"text-align: left; font-size: 14px;\">required</th>\n",
    "    </tr>\n",
    "    <tr style=\"text-align: center;\">\n",
    "        <th style=\"text-align: left; font-size: 14px;\">mileage_per_day</th>\n",
    "        <th style=\"text-align: left; font-size: 14px;\">Mileage per day (mi/day) or (km/day) </th>\n",
    "        <th style=\"text-align: left; font-size: 14px;\">calculated</th>\n",
    "    </tr>\n",
    "    <tr style=\"text-align: center;\">\n",
    "        <th style=\"text-align: left; font-size: 14px;\">range_at_full</th>\n",
    "        <th style=\"text-align: left; font-size: 14px;\">Typical range at 100% charge in mi or km</th>\n",
    "        <th style=\"text-align: left; font-size: 14px;\">required</th>\n",
    "    </tr>\n",
    "     <tr style=\"text-align: center;\">\n",
    "        <th style=\"text-align: left; font-size: 14px;\">range_mode</th>\n",
    "        <th style=\"text-align: left; font-size: 14px;\">>Range mode on or off at the time of reading</th>\n",
    "        <th style=\"text-align: left; font-size: 14px;\">required</th>\n",
    "    </tr>\n",
    "     <tr style=\"text-align: center;\">\n",
    "        <th style=\"text-align: left; font-size: 14px;\">range_after_correction</th>\n",
    "        <th style=\"text-align: left; font-size: 14px;\">Typical range adjusted with respect to range mode</th>\n",
    "        <th style=\"text-align: left; font-size: 14px;\">calculated</th>\n",
    "    </tr>\n",
    "     <tr style=\"text-align: center;\">\n",
    "        <th style=\"text-align: left; font-size: 14px;\">battery_replacement</th>\n",
    "        <th style=\"text-align: left; font-size: 14px;\">Did you have a battery replacement?</th>\n",
    "        <th style=\"text-align: left; font-size: 14px;\">required</th>\n",
    "    </tr>\n",
    "     <tr style=\"text-align: center;\">\n",
    "        <th style=\"text-align: left; font-size: 14px;\">change_after_replacement</th>\n",
    "        <th style=\"text-align: left; font-size: 14px;\">What happened to typical range after replacement?</th>\n",
    "        <th style=\"text-align: left; font-size: 14px;\">required if battery was replaced</th>\n",
    "    </tr>\n",
    "     <tr style=\"text-align: center;\">\n",
    "        <th style=\"text-align: left; font-size: 14px;\">range_at_replacement</th>\n",
    "        <th style=\"text-align: left; font-size: 14px;\">At what mileage did you replace the battery?</th>\n",
    "        <th style=\"text-align: left; font-size: 14px;\">required if battery was replaced</th>\n",
    "    </tr>\n",
    "    <tr style=\"text-align: center;\">\n",
    "        <th style=\"text-align: left; font-size: 14px;\">mileage_after_replacement</th>\n",
    "        <th style=\"text-align: left; font-size: 14px;\">Corrected mileage if battery was replaced</th>\n",
    "        <th style=\"text-align: left; font-size: 14px;\">calculated</th>\n",
    "    </tr>\n",
    "    <tr style=\"text-align: center;\">\n",
    "        <th style=\"text-align: left; font-size: 14px;\">battery_age</th>\n",
    "        <th style=\"text-align: left; font-size: 14px;\">Battery age in days</th>\n",
    "        <th style=\"text-align: left; font-size: 14px;\">calculated</th>\n",
    "    </tr>\n",
    "    <tr style=\"text-align: center;\">\n",
    "        <th style=\"text-align: left; font-size: 14px;\">lifetime_avg_energy_consumption</th>\n",
    "        <th style=\"text-align: left; font-size: 14px;\">Lifetime average energy consumption at the time of reading in Wh/km</th>\n",
    "        <th style=\"text-align: left; font-size: 14px;\">required</th>\n",
    "    </tr>\n",
    "    <tr style=\"text-align: center;\">\n",
    "        <th style=\"text-align: left; font-size: 14px;\">range_when_new</th>\n",
    "        <th style=\"text-align: left; font-size: 14px;\">Typical range of this model when new</th>\n",
    "        <th style=\"text-align: left; font-size: 14px;\">calculated</th>\n",
    "    </tr>\n",
    "    <tr style=\"text-align: center;\">\n",
    "        <th style=\"text-align: left; font-size: 14px;\">remaining_range</th>\n",
    "        <th style=\"text-align: left; font-size: 14px;\">Remaining original range</th>\n",
    "        <th style=\"text-align: left; font-size: 14px;\">calculated</th>\n",
    "    </tr>\n",
    "    <tr style=\"text-align: center;\">\n",
    "        <th style=\"text-align: left; font-size: 14px;\">remaining_capacity</th>\n",
    "        <th style=\"text-align: left; font-size: 14px;\">Remaining usable capacity until typical range shows zero</th>\n",
    "        <th style=\"text-align: left; font-size: 14px;\">calculated</th>\n",
    "    </tr>\n",
    "    <tr style=\"text-align: center;\">\n",
    "        <th style=\"text-align: left; font-size: 14px;\">unanswered</th>\n",
    "        <th style=\"text-align: left; font-size: 14px;\">Unanswered questions</th>\n",
    "        <th style=\"text-align: left; font-size: 14px;\">calculated</th>\n",
    "    </tr>\n",
    "    <tr style=\"text-align: center;\">\n",
    "        <th style=\"text-align: left; font-size: 14px;\">supercharging_frequency</th>\n",
    "        <th style=\"text-align: left; font-size: 14px;\">Frequency of supercharging</th>\n",
    "        <th style=\"text-align: left; font-size: 14px;\">Optional</th>\n",
    "    </tr>\n",
    "    <tr style=\"text-align: center;\">\n",
    "        <th style=\"text-align: left; font-size: 14px;\">full_charge_frequency</th>\n",
    "        <th style=\"text-align: left; font-size: 14px;\">Frequency of 100% charge</th>\n",
    "        <th style=\"text-align: left; font-size: 14px;\">Optional</th>\n",
    "    </tr>\n",
    "    <tr style=\"text-align: center;\">\n",
    "        <th style=\"text-align: left; font-size: 14px;\">empty_charge_frequency</th>\n",
    "        <th style=\"text-align: left; font-size: 14px;\">Frequency of almost empty (8km or less)</th>\n",
    "        <th style=\"text-align: left; font-size: 14px;\">Optional</th>\n",
    "    </tr>\n",
    "    <tr style=\"text-align: center;\">\n",
    "        <th style=\"text-align: left; font-size: 14px;\">daily_charge</th>\n",
    "        <th style=\"text-align: left; font-size: 14px;\">Daily charge level</th>\n",
    "        <th style=\"text-align: left; font-size: 14px;\">Optional</th>\n",
    "    </tr>\n",
    "    <tr style=\"text-align: center;\">\n",
    "        <th style=\"text-align: left; font-size: 14px;\">daily_charge_power</th>\n",
    "        <th style=\"text-align: left; font-size: 14px;\">Daily charge power in kW</th>\n",
    "        <th style=\"text-align: left; font-size: 14px;\">Optional</th>\n",
    "    </tr>\n",
    "    <tr style=\"text-align: center;\">\n",
    "        <th style=\"text-align: left; font-size: 14px;\">new_car_range</th>\n",
    "        <th style=\"text-align: left; font-size: 14px;\">What was 100% typical range when the car was new?</th>\n",
    "        <th style=\"text-align: left; font-size: 14px;\">Optional</th>\n",
    "    </tr>\n",
    "    <tr style=\"text-align: center;\">\n",
    "        <th style=\"text-align: left; font-size: 14px;\">range_mode_new</th>\n",
    "        <th style=\"text-align: left; font-size: 14px;\">Range mode on/off at time of reading previous column?</th>\n",
    "        <th style=\"text-align: left; font-size: 14px;\">Optional</th>\n",
    "    </tr>\n",
    "</table>"
   ]
  },
  {
   "cell_type": "markdown",
   "metadata": {},
   "source": [
    "<h2>Data Wrangling</h2>"
   ]
  },
  {
   "cell_type": "markdown",
   "metadata": {},
   "source": [
    "Download the MaxRange Tesla Battery Survey.xlsx file from Google drive. Import and inspect raw data. Isolate relevant variables and organize the dataframe. Resolve missing, invalid, corrupted or duplicate values."
   ]
  },
  {
   "cell_type": "markdown",
   "metadata": {},
   "source": [
    "<h3>Import packages and create a data frame from Excel file</h3>"
   ]
  },
  {
   "cell_type": "code",
   "execution_count": 1,
   "metadata": {},
   "outputs": [
    {
     "data": {
      "text/plain": [
       "[u'Asia Pacific & Europe (excl UK)',\n",
       " u'Canada',\n",
       " u'USA',\n",
       " u'UK',\n",
       " u'Range Units',\n",
       " u'Feedback',\n",
       " u'Charts',\n",
       " u'Stats',\n",
       " u'Charts Data',\n",
       " u'Administrative',\n",
       " u'Editor Comments',\n",
       " u'Stats Data',\n",
       " u'Temperature effect',\n",
       " u'Column names compared']"
      ]
     },
     "execution_count": 1,
     "metadata": {},
     "output_type": "execute_result"
    }
   ],
   "source": [
    "import pandas as pd\n",
    "import numpy as np\n",
    "import seaborn as sns\n",
    "import matplotlib.pyplot as plt\n",
    "tesla_xls = pd.ExcelFile('MaxRange Tesla Battery Survey.xlsx')\n",
    "tesla_xls.sheet_names"
   ]
  },
  {
   "cell_type": "code",
   "execution_count": 2,
   "metadata": {
    "collapsed": true,
    "scrolled": false
   },
   "outputs": [],
   "source": [
    "#create a data frame for Asia Pacific and Europe\n",
    "asia_pacific_europe = tesla_xls.parse('Asia Pacific & Europe (excl UK)',skiprows=2)"
   ]
  },
  {
   "cell_type": "code",
   "execution_count": 3,
   "metadata": {
    "scrolled": false
   },
   "outputs": [
    {
     "data": {
      "text/plain": [
       "ID                                                                                   0\n",
       "Username (can be anything inoffensive)                                              30\n",
       "Location                                                                            30\n",
       "Vehicle manufacture date (double click empty cell)                                  33\n",
       "Date of range reading\\n(double click empty cell)                                    30\n",
       "Model                                                                               30\n",
       "Mileage in km                                                                       30\n",
       "Mileage per day                                                                     33\n",
       "Typical Range at 100% charge\\nin km                                                 30\n",
       "Range mode on/off at time of reading?                                               30\n",
       "Typical range after correction if range mode was off                                30\n",
       "Did you have a battery replacement?                                                 30\n",
       "What happened to typical range after replacement?                                  894\n",
       "At what km did you replace battery?                                                894\n",
       "Mileage in km after correction if battery was replaced                              30\n",
       "Battery age (days) after correction if battery was replaced                         33\n",
       "Lifetime average energy consumption at the time of reading Wh/km                    39\n",
       "Typical range of this model when new                                                30\n",
       "Remaining original range                                                            30\n",
       "Remaining usable capacity until typical range shows zero                            30\n",
       "Unanswered questions                                                                30\n",
       "Frequency of supercharging                                                         111\n",
       "Frequency of 100% charge                                                           115\n",
       "Frequency of almost empty (8km or less)                                            114\n",
       "Daily charge level                                                                 268\n",
       "Daily charge power in kW                                                           366\n",
       "What was 100% typical range when the car was new?                                  534\n",
       "Range mode on/off at time of reading previous column?                              524\n",
       "Typical range at the beginning of the trip                                         871\n",
       "Typical range at the end of the trip                                               877\n",
       "kWh consumption for this trip\\n(comma or dot is fine)                              880\n",
       "Range mode on/off when you read these trip numbers?                                877\n",
       "Comments (tire or wheel information is not important)                              639\n",
       "Typical range consumption for trip                                                 868\n",
       "Typical range after correction if range mode was off.1                             882\n",
       "Remaining usable capacity until typical range shows zero according to trip data    882\n",
       "Remaining original capacity                                                        882\n",
       "trip based battery capacity calculation explained                                  882\n",
       "100% range when the car was new after range mode adjustment                        534\n",
       "Vehicle age (days)                                                                  33\n",
       "Cycles                                                                              39\n",
       "Mileage in km.1                                                                     30\n",
       "wh/km                                                                               39\n",
       "Unnamed: 43                                                                        952\n",
       "Average capacity of all cars at this mileage according to chart trendline           30\n",
       "Your capacity minus chart trendline at this mileage                                 30\n",
       "Dynamic data (copy from here)                                                       30\n",
       "Static data (paste values here)                                                     30\n",
       "Mixed data                                                                          30\n",
       "Data changed or new data?                                                          952\n",
       "Display changes                                                                    952\n",
       "Dynamic data changes for selected entry                                            952\n",
       "Static data changes for selected entry                                             952\n",
       "Blank column for arrayformula in \"Charts Data\"                                     952\n",
       "dtype: int64"
      ]
     },
     "execution_count": 3,
     "metadata": {},
     "output_type": "execute_result"
    }
   ],
   "source": [
    "#obtain information about any null elements in the data frame\n",
    "asia_pacific_europe.isnull().sum()"
   ]
  },
  {
   "cell_type": "code",
   "execution_count": 4,
   "metadata": {
    "collapsed": true
   },
   "outputs": [],
   "source": [
    "#drop any null rows which don't contain any data\n",
    "asia_pacific_europe = asia_pacific_europe.dropna(subset=['Location'])"
   ]
  },
  {
   "cell_type": "code",
   "execution_count": 5,
   "metadata": {
    "collapsed": true,
    "scrolled": false
   },
   "outputs": [],
   "source": [
    "#create a data frame for Canada\n",
    "canada = tesla_xls.parse('Canada',skiprows=2)"
   ]
  },
  {
   "cell_type": "code",
   "execution_count": 6,
   "metadata": {},
   "outputs": [
    {
     "data": {
      "text/html": [
       "<div>\n",
       "<style>\n",
       "    .dataframe thead tr:only-child th {\n",
       "        text-align: right;\n",
       "    }\n",
       "\n",
       "    .dataframe thead th {\n",
       "        text-align: left;\n",
       "    }\n",
       "\n",
       "    .dataframe tbody tr th {\n",
       "        vertical-align: top;\n",
       "    }\n",
       "</style>\n",
       "<table border=\"1\" class=\"dataframe\">\n",
       "  <thead>\n",
       "    <tr style=\"text-align: right;\">\n",
       "      <th></th>\n",
       "      <th>ID</th>\n",
       "      <th>Username (can be anything inoffensive)</th>\n",
       "      <th>Location</th>\n",
       "      <th>Vehicle manufacture date (double click empty cell)</th>\n",
       "      <th>Date of range reading\n",
       "(double click empty cell)</th>\n",
       "      <th>Model</th>\n",
       "      <th>Mileage in km</th>\n",
       "      <th>Mileage per day</th>\n",
       "      <th>EPA rated range at 100% charge\n",
       "in km</th>\n",
       "      <th>Range mode on/off at time of reading?</th>\n",
       "      <th>...</th>\n",
       "      <th>Average capacity of all cars at this mileage according to chart trendline</th>\n",
       "      <th>Your capacity minus chart trendline at this mileage</th>\n",
       "      <th>Dynamic data (copy from here)</th>\n",
       "      <th>Static data (paste values here)</th>\n",
       "      <th>Mixed data</th>\n",
       "      <th>Data changed or new data?</th>\n",
       "      <th>Display changes</th>\n",
       "      <th>Dynamic data changes for selected entry</th>\n",
       "      <th>Static data changes for selected entry</th>\n",
       "      <th>Blank column for arrayformula in \"Charts Data\"</th>\n",
       "    </tr>\n",
       "  </thead>\n",
       "  <tbody>\n",
       "    <tr>\n",
       "      <th>67</th>\n",
       "      <td>68</td>\n",
       "      <td>NaN</td>\n",
       "      <td>NaN</td>\n",
       "      <td>NaT</td>\n",
       "      <td>NaT</td>\n",
       "      <td>NaN</td>\n",
       "      <td>NaN</td>\n",
       "      <td>NaN</td>\n",
       "      <td>NaN</td>\n",
       "      <td>NaN</td>\n",
       "      <td>...</td>\n",
       "      <td>NaN</td>\n",
       "      <td>NaN</td>\n",
       "      <td>NaN</td>\n",
       "      <td>NaN</td>\n",
       "      <td>NaN</td>\n",
       "      <td>NaN</td>\n",
       "      <td>NaN</td>\n",
       "      <td>NaN</td>\n",
       "      <td>NaN</td>\n",
       "      <td>NaN</td>\n",
       "    </tr>\n",
       "    <tr>\n",
       "      <th>68</th>\n",
       "      <td>69</td>\n",
       "      <td>NaN</td>\n",
       "      <td>NaN</td>\n",
       "      <td>NaT</td>\n",
       "      <td>NaT</td>\n",
       "      <td>NaN</td>\n",
       "      <td>NaN</td>\n",
       "      <td>NaN</td>\n",
       "      <td>NaN</td>\n",
       "      <td>NaN</td>\n",
       "      <td>...</td>\n",
       "      <td>NaN</td>\n",
       "      <td>NaN</td>\n",
       "      <td>NaN</td>\n",
       "      <td>NaN</td>\n",
       "      <td>NaN</td>\n",
       "      <td>NaN</td>\n",
       "      <td>NaN</td>\n",
       "      <td>NaN</td>\n",
       "      <td>NaN</td>\n",
       "      <td>NaN</td>\n",
       "    </tr>\n",
       "    <tr>\n",
       "      <th>69</th>\n",
       "      <td>70</td>\n",
       "      <td>NaN</td>\n",
       "      <td>NaN</td>\n",
       "      <td>NaT</td>\n",
       "      <td>NaT</td>\n",
       "      <td>NaN</td>\n",
       "      <td>NaN</td>\n",
       "      <td>NaN</td>\n",
       "      <td>NaN</td>\n",
       "      <td>NaN</td>\n",
       "      <td>...</td>\n",
       "      <td>NaN</td>\n",
       "      <td>NaN</td>\n",
       "      <td>NaN</td>\n",
       "      <td>NaN</td>\n",
       "      <td>NaN</td>\n",
       "      <td>NaN</td>\n",
       "      <td>NaN</td>\n",
       "      <td>NaN</td>\n",
       "      <td>NaN</td>\n",
       "      <td>NaN</td>\n",
       "    </tr>\n",
       "    <tr>\n",
       "      <th>70</th>\n",
       "      <td>71</td>\n",
       "      <td>NaN</td>\n",
       "      <td>NaN</td>\n",
       "      <td>NaT</td>\n",
       "      <td>NaT</td>\n",
       "      <td>NaN</td>\n",
       "      <td>NaN</td>\n",
       "      <td>NaN</td>\n",
       "      <td>NaN</td>\n",
       "      <td>NaN</td>\n",
       "      <td>...</td>\n",
       "      <td>NaN</td>\n",
       "      <td>NaN</td>\n",
       "      <td>NaN</td>\n",
       "      <td>NaN</td>\n",
       "      <td>NaN</td>\n",
       "      <td>NaN</td>\n",
       "      <td>NaN</td>\n",
       "      <td>NaN</td>\n",
       "      <td>NaN</td>\n",
       "      <td>NaN</td>\n",
       "    </tr>\n",
       "    <tr>\n",
       "      <th>71</th>\n",
       "      <td>72</td>\n",
       "      <td>NaN</td>\n",
       "      <td>NaN</td>\n",
       "      <td>NaT</td>\n",
       "      <td>NaT</td>\n",
       "      <td>NaN</td>\n",
       "      <td>NaN</td>\n",
       "      <td>NaN</td>\n",
       "      <td>NaN</td>\n",
       "      <td>NaN</td>\n",
       "      <td>...</td>\n",
       "      <td>NaN</td>\n",
       "      <td>NaN</td>\n",
       "      <td>NaN</td>\n",
       "      <td>NaN</td>\n",
       "      <td>NaN</td>\n",
       "      <td>NaN</td>\n",
       "      <td>NaN</td>\n",
       "      <td>NaN</td>\n",
       "      <td>NaN</td>\n",
       "      <td>NaN</td>\n",
       "    </tr>\n",
       "  </tbody>\n",
       "</table>\n",
       "<p>5 rows × 54 columns</p>\n",
       "</div>"
      ],
      "text/plain": [
       "    ID Username (can be anything inoffensive) Location  \\\n",
       "67  68                                    NaN      NaN   \n",
       "68  69                                    NaN      NaN   \n",
       "69  70                                    NaN      NaN   \n",
       "70  71                                    NaN      NaN   \n",
       "71  72                                    NaN      NaN   \n",
       "\n",
       "   Vehicle manufacture date (double click empty cell)  \\\n",
       "67                                                NaT   \n",
       "68                                                NaT   \n",
       "69                                                NaT   \n",
       "70                                                NaT   \n",
       "71                                                NaT   \n",
       "\n",
       "   Date of range reading\\n(double click empty cell) Model  Mileage in km  \\\n",
       "67                                              NaT   NaN            NaN   \n",
       "68                                              NaT   NaN            NaN   \n",
       "69                                              NaT   NaN            NaN   \n",
       "70                                              NaT   NaN            NaN   \n",
       "71                                              NaT   NaN            NaN   \n",
       "\n",
       "    Mileage per day  EPA rated range at 100% charge\\nin km  \\\n",
       "67              NaN                                    NaN   \n",
       "68              NaN                                    NaN   \n",
       "69              NaN                                    NaN   \n",
       "70              NaN                                    NaN   \n",
       "71              NaN                                    NaN   \n",
       "\n",
       "   Range mode on/off at time of reading?  \\\n",
       "67                                   NaN   \n",
       "68                                   NaN   \n",
       "69                                   NaN   \n",
       "70                                   NaN   \n",
       "71                                   NaN   \n",
       "\n",
       "                         ...                        \\\n",
       "67                       ...                         \n",
       "68                       ...                         \n",
       "69                       ...                         \n",
       "70                       ...                         \n",
       "71                       ...                         \n",
       "\n",
       "    Average capacity of all cars at this mileage according to chart trendline  \\\n",
       "67                                                NaN                           \n",
       "68                                                NaN                           \n",
       "69                                                NaN                           \n",
       "70                                                NaN                           \n",
       "71                                                NaN                           \n",
       "\n",
       "   Your capacity minus chart trendline at this mileage  \\\n",
       "67                                                NaN    \n",
       "68                                                NaN    \n",
       "69                                                NaN    \n",
       "70                                                NaN    \n",
       "71                                                NaN    \n",
       "\n",
       "   Dynamic data (copy from here)  Static data (paste values here)  Mixed data  \\\n",
       "67                           NaN                              NaN         NaN   \n",
       "68                           NaN                              NaN         NaN   \n",
       "69                           NaN                              NaN         NaN   \n",
       "70                           NaN                              NaN         NaN   \n",
       "71                           NaN                              NaN         NaN   \n",
       "\n",
       "    Data changed or new data?  Display changes  \\\n",
       "67                        NaN              NaN   \n",
       "68                        NaN              NaN   \n",
       "69                        NaN              NaN   \n",
       "70                        NaN              NaN   \n",
       "71                        NaN              NaN   \n",
       "\n",
       "    Dynamic data changes for selected entry  \\\n",
       "67                                      NaN   \n",
       "68                                      NaN   \n",
       "69                                      NaN   \n",
       "70                                      NaN   \n",
       "71                                      NaN   \n",
       "\n",
       "    Static data changes for selected entry  \\\n",
       "67                                     NaN   \n",
       "68                                     NaN   \n",
       "69                                     NaN   \n",
       "70                                     NaN   \n",
       "71                                     NaN   \n",
       "\n",
       "    Blank column for arrayformula in \"Charts Data\"  \n",
       "67                                             NaN  \n",
       "68                                             NaN  \n",
       "69                                             NaN  \n",
       "70                                             NaN  \n",
       "71                                             NaN  \n",
       "\n",
       "[5 rows x 54 columns]"
      ]
     },
     "execution_count": 6,
     "metadata": {},
     "output_type": "execute_result"
    }
   ],
   "source": [
    "canada.tail()"
   ]
  },
  {
   "cell_type": "code",
   "execution_count": 7,
   "metadata": {
    "collapsed": true
   },
   "outputs": [],
   "source": [
    "#drop any null rows which don't contain any data\n",
    "canada = canada.dropna(subset=['Location'])"
   ]
  },
  {
   "cell_type": "code",
   "execution_count": 8,
   "metadata": {
    "collapsed": true,
    "scrolled": false
   },
   "outputs": [],
   "source": [
    "#create a data frame for usa\n",
    "usa = tesla_xls.parse('USA',skiprows=2)"
   ]
  },
  {
   "cell_type": "code",
   "execution_count": 9,
   "metadata": {
    "collapsed": true
   },
   "outputs": [],
   "source": [
    "usa = usa.dropna(subset=['Location'])"
   ]
  },
  {
   "cell_type": "code",
   "execution_count": 10,
   "metadata": {
    "collapsed": true
   },
   "outputs": [],
   "source": [
    "#create a data frame for uk\n",
    "uk = tesla_xls.parse('UK',skiprows=2)"
   ]
  },
  {
   "cell_type": "code",
   "execution_count": 11,
   "metadata": {
    "collapsed": true
   },
   "outputs": [],
   "source": [
    "uk = uk.dropna(subset=['Location'])"
   ]
  },
  {
   "cell_type": "code",
   "execution_count": 12,
   "metadata": {},
   "outputs": [
    {
     "name": "stdout",
     "output_type": "stream",
     "text": [
      "1156\n"
     ]
    }
   ],
   "source": [
    "print(len(asia_pacific_europe.index)+len(usa.index)+len(canada.index)+len(uk.index))"
   ]
  },
  {
   "cell_type": "markdown",
   "metadata": {},
   "source": [
    "The names of the columns are too descriptive and long for analyzing. Therefore, we can rename the columns before merging them together."
   ]
  },
  {
   "cell_type": "code",
   "execution_count": 13,
   "metadata": {},
   "outputs": [
    {
     "data": {
      "text/plain": [
       "54"
      ]
     },
     "execution_count": 13,
     "metadata": {},
     "output_type": "execute_result"
    }
   ],
   "source": [
    "#rename the columns\n",
    "new_column_names = ['id', 'username', 'location', 'manufacture_date', 'range_reading_date', 'model',  'mileage',\n",
    "                    'mileage_per_day', 'range_at_full', 'range_mode', 'range_after_correction', 'battery_replacement',\n",
    "                    'change_after_replacement', 'range_at_replacement', 'mileage_after_replacement', \n",
    "                    'battery_age', 'lifetime_avg_energy_consumption', 'range_when_new', 'remaining_range','remaining_capacity',\n",
    "                   'unanswered', 'supercharging_frequency', 'full_charge_frequency', 'empty_charge_frequency', 'daily_charge', 'daily_charge_power',\n",
    "                   'new_car_range', 'range_mode_new', 'typical_range_trip_start', 'typical_range_trip_end', 'trip_consumption',\n",
    "                   'range_mode_trip','comments','typical_range_consumption','typical_range_correction','remaining_usable_capacity',\n",
    "                   'remaining_original_capacity','trip_based_capacity','range_mode_adjustment','vehicle_age','vehicle_cycles',\n",
    "                   'mileage_in_km','wh_km','used_for_chart','average_capacity_according_to_chart','deviation_in_capacity', 'dynamic_data',\n",
    "                   'static_data','mixed_data','book_keeping1', 'book_keeping2', 'book_keeping3', 'book_keeping4', 'book_keeping5']\n",
    "len(new_column_names)"
   ]
  },
  {
   "cell_type": "code",
   "execution_count": 14,
   "metadata": {
    "collapsed": true
   },
   "outputs": [],
   "source": [
    "#rename the columns of each data frame\n",
    "canada.columns = new_column_names\n",
    "asia_pacific_europe.columns = new_column_names\n",
    "uk.columns = new_column_names\n",
    "usa.columns = new_column_names"
   ]
  },
  {
   "cell_type": "code",
   "execution_count": 15,
   "metadata": {},
   "outputs": [
    {
     "name": "stdout",
     "output_type": "stream",
     "text": [
      "<class 'pandas.core.frame.DataFrame'>\n",
      "Int64Index: 41 entries, 0 to 40\n",
      "Data columns (total 54 columns):\n",
      "id                                     41 non-null int64\n",
      "username                               41 non-null object\n",
      "location                               41 non-null object\n",
      "manufacture_date                       41 non-null datetime64[ns]\n",
      "range_reading_date                     41 non-null datetime64[ns]\n",
      "model                                  41 non-null object\n",
      "mileage                                41 non-null float64\n",
      "mileage_per_day                        41 non-null float64\n",
      "range_at_full                          41 non-null float64\n",
      "range_mode                             41 non-null object\n",
      "range_after_correction                 41 non-null float64\n",
      "battery_replacement                    41 non-null object\n",
      "change_after_replacement               1 non-null object\n",
      "range_at_replacement                   1 non-null float64\n",
      "mileage_after_replacement              41 non-null float64\n",
      "battery_age                            41 non-null float64\n",
      "lifetime_avg_energy_consumption        41 non-null float64\n",
      "range_when_new                         41 non-null float64\n",
      "remaining_range                        41 non-null float64\n",
      "remaining_capacity                     41 non-null float64\n",
      "unanswered                             41 non-null float64\n",
      "supercharging_frequency                41 non-null object\n",
      "full_charge_frequency                  40 non-null object\n",
      "empty_charge_frequency                 40 non-null object\n",
      "daily_charge                           40 non-null float64\n",
      "daily_charge_power                     24 non-null float64\n",
      "new_car_range                          22 non-null float64\n",
      "range_mode_new                         27 non-null object\n",
      "typical_range_trip_start               4 non-null float64\n",
      "typical_range_trip_end                 4 non-null float64\n",
      "trip_consumption                       2 non-null float64\n",
      "range_mode_trip                        4 non-null object\n",
      "comments                               8 non-null object\n",
      "typical_range_consumption              4 non-null object\n",
      "typical_range_correction               2 non-null float64\n",
      "remaining_usable_capacity              2 non-null float64\n",
      "remaining_original_capacity            2 non-null float64\n",
      "trip_based_capacity                    2 non-null object\n",
      "range_mode_adjustment                  22 non-null float64\n",
      "vehicle_age                            41 non-null float64\n",
      "vehicle_cycles                         41 non-null float64\n",
      "mileage_in_km                          41 non-null float64\n",
      "wh_km                                  41 non-null float64\n",
      "used_for_chart                         41 non-null float64\n",
      "average_capacity_according_to_chart    41 non-null float64\n",
      "deviation_in_capacity                  41 non-null float64\n",
      "dynamic_data                           41 non-null object\n",
      "static_data                            41 non-null object\n",
      "mixed_data                             41 non-null object\n",
      "book_keeping1                          0 non-null float64\n",
      "book_keeping2                          0 non-null float64\n",
      "book_keeping3                          0 non-null float64\n",
      "book_keeping4                          0 non-null float64\n",
      "book_keeping5                          0 non-null float64\n",
      "dtypes: datetime64[ns](2), float64(34), int64(1), object(17)\n",
      "memory usage: 17.6+ KB\n"
     ]
    }
   ],
   "source": [
    "canada.info()"
   ]
  },
  {
   "cell_type": "code",
   "execution_count": 16,
   "metadata": {
    "scrolled": false
   },
   "outputs": [
    {
     "data": {
      "text/html": [
       "<div>\n",
       "<style>\n",
       "    .dataframe thead tr:only-child th {\n",
       "        text-align: right;\n",
       "    }\n",
       "\n",
       "    .dataframe thead th {\n",
       "        text-align: left;\n",
       "    }\n",
       "\n",
       "    .dataframe tbody tr th {\n",
       "        vertical-align: top;\n",
       "    }\n",
       "</style>\n",
       "<table border=\"1\" class=\"dataframe\">\n",
       "  <thead>\n",
       "    <tr style=\"text-align: right;\">\n",
       "      <th></th>\n",
       "      <th>id</th>\n",
       "      <th>username</th>\n",
       "      <th>location</th>\n",
       "      <th>manufacture_date</th>\n",
       "      <th>range_reading_date</th>\n",
       "      <th>model</th>\n",
       "      <th>mileage</th>\n",
       "      <th>mileage_per_day</th>\n",
       "      <th>range_at_full</th>\n",
       "      <th>range_mode</th>\n",
       "      <th>...</th>\n",
       "      <th>average_capacity_according_to_chart</th>\n",
       "      <th>deviation_in_capacity</th>\n",
       "      <th>dynamic_data</th>\n",
       "      <th>static_data</th>\n",
       "      <th>mixed_data</th>\n",
       "      <th>book_keeping1</th>\n",
       "      <th>book_keeping2</th>\n",
       "      <th>book_keeping3</th>\n",
       "      <th>book_keeping4</th>\n",
       "      <th>book_keeping5</th>\n",
       "    </tr>\n",
       "  </thead>\n",
       "  <tbody>\n",
       "    <tr>\n",
       "      <th>0</th>\n",
       "      <td>1</td>\n",
       "      <td>Muzzman1</td>\n",
       "      <td>USA</td>\n",
       "      <td>2014-03-22</td>\n",
       "      <td>2014-04-08</td>\n",
       "      <td>Model S 85</td>\n",
       "      <td>2000.0</td>\n",
       "      <td>111.1</td>\n",
       "      <td>271.0</td>\n",
       "      <td>On</td>\n",
       "      <td>...</td>\n",
       "      <td>0.993895</td>\n",
       "      <td>0.013505</td>\n",
       "      <td>Muzzman1|USA|22-Mar-2014|08-Apr-2014|Model S 8...</td>\n",
       "      <td>Muzzman1|USA|22-Mar-2014|08-Apr-2014|Model S 8...</td>\n",
       "      <td>Muzzman1|USA|22-Mar-2014|08-Apr-2014|Model S 8...</td>\n",
       "      <td>NaN</td>\n",
       "      <td>NaN</td>\n",
       "      <td>NaN</td>\n",
       "      <td>NaN</td>\n",
       "      <td>NaN</td>\n",
       "    </tr>\n",
       "    <tr>\n",
       "      <th>1</th>\n",
       "      <td>2</td>\n",
       "      <td>Muzzman1</td>\n",
       "      <td>USA</td>\n",
       "      <td>2014-03-22</td>\n",
       "      <td>2015-04-16</td>\n",
       "      <td>Model S 85</td>\n",
       "      <td>21000.0</td>\n",
       "      <td>53.7</td>\n",
       "      <td>256.0</td>\n",
       "      <td>On</td>\n",
       "      <td>...</td>\n",
       "      <td>0.963030</td>\n",
       "      <td>-0.011330</td>\n",
       "      <td>Muzzman1|USA|22-Mar-2014|16-Apr-2015|Model S 8...</td>\n",
       "      <td>Muzzman1|USA|22-Mar-2014|16-Apr-2015|Model S 8...</td>\n",
       "      <td>Muzzman1|USA|22-Mar-2014|16-Apr-2015|Model S 8...</td>\n",
       "      <td>NaN</td>\n",
       "      <td>NaN</td>\n",
       "      <td>NaN</td>\n",
       "      <td>NaN</td>\n",
       "      <td>NaN</td>\n",
       "    </tr>\n",
       "    <tr>\n",
       "      <th>2</th>\n",
       "      <td>3</td>\n",
       "      <td>ghurenkamp</td>\n",
       "      <td>USA</td>\n",
       "      <td>2013-06-07</td>\n",
       "      <td>2015-05-11</td>\n",
       "      <td>Model S P85</td>\n",
       "      <td>43715.0</td>\n",
       "      <td>62.1</td>\n",
       "      <td>251.0</td>\n",
       "      <td>Off</td>\n",
       "      <td>...</td>\n",
       "      <td>0.950681</td>\n",
       "      <td>-0.005781</td>\n",
       "      <td>ghurenkamp|USA|07-Jun-2013|11-May-2015|Model S...</td>\n",
       "      <td>ghurenkamp|USA|07-Jun-2013|11-May-2015|Model S...</td>\n",
       "      <td>ghurenkamp|USA|07-Jun-2013|11-May-2015|Model S...</td>\n",
       "      <td>NaN</td>\n",
       "      <td>NaN</td>\n",
       "      <td>NaN</td>\n",
       "      <td>NaN</td>\n",
       "      <td>NaN</td>\n",
       "    </tr>\n",
       "    <tr>\n",
       "      <th>3</th>\n",
       "      <td>4</td>\n",
       "      <td>KL</td>\n",
       "      <td>USA</td>\n",
       "      <td>2015-02-28</td>\n",
       "      <td>2015-05-11</td>\n",
       "      <td>Model S 85D</td>\n",
       "      <td>13679.0</td>\n",
       "      <td>187.4</td>\n",
       "      <td>269.0</td>\n",
       "      <td>Off</td>\n",
       "      <td>...</td>\n",
       "      <td>0.970874</td>\n",
       "      <td>0.026926</td>\n",
       "      <td>KL|USA|28-Feb-2015|11-May-2015|Model S 85D|136...</td>\n",
       "      <td>KL|USA|28-Feb-2015|11-May-2015|Model S 85D|136...</td>\n",
       "      <td>KL|USA|28-Feb-2015|11-May-2015|Model S 85D|136...</td>\n",
       "      <td>NaN</td>\n",
       "      <td>NaN</td>\n",
       "      <td>NaN</td>\n",
       "      <td>NaN</td>\n",
       "      <td>NaN</td>\n",
       "    </tr>\n",
       "    <tr>\n",
       "      <th>4</th>\n",
       "      <td>5</td>\n",
       "      <td>terrymisu</td>\n",
       "      <td>USA</td>\n",
       "      <td>2015-05-07</td>\n",
       "      <td>2015-05-28</td>\n",
       "      <td>Model S P85D</td>\n",
       "      <td>1061.0</td>\n",
       "      <td>48.2</td>\n",
       "      <td>253.0</td>\n",
       "      <td>On</td>\n",
       "      <td>...</td>\n",
       "      <td>0.996655</td>\n",
       "      <td>-0.008355</td>\n",
       "      <td>terrymisu|USA|07-May-2015|28-May-2015|Model S ...</td>\n",
       "      <td>terrymisu|USA|07-May-2015|28-May-2015|Model S ...</td>\n",
       "      <td>terrymisu|USA|07-May-2015|28-May-2015|Model S ...</td>\n",
       "      <td>NaN</td>\n",
       "      <td>NaN</td>\n",
       "      <td>NaN</td>\n",
       "      <td>NaN</td>\n",
       "      <td>NaN</td>\n",
       "    </tr>\n",
       "  </tbody>\n",
       "</table>\n",
       "<p>5 rows × 54 columns</p>\n",
       "</div>"
      ],
      "text/plain": [
       "   id    username location manufacture_date range_reading_date         model  \\\n",
       "0   1    Muzzman1      USA       2014-03-22         2014-04-08    Model S 85   \n",
       "1   2    Muzzman1      USA       2014-03-22         2015-04-16    Model S 85   \n",
       "2   3  ghurenkamp      USA       2013-06-07         2015-05-11   Model S P85   \n",
       "3   4          KL      USA       2015-02-28         2015-05-11   Model S 85D   \n",
       "4   5   terrymisu      USA       2015-05-07         2015-05-28  Model S P85D   \n",
       "\n",
       "   mileage  mileage_per_day  range_at_full range_mode      ...        \\\n",
       "0   2000.0            111.1          271.0         On      ...         \n",
       "1  21000.0             53.7          256.0         On      ...         \n",
       "2  43715.0             62.1          251.0        Off      ...         \n",
       "3  13679.0            187.4          269.0        Off      ...         \n",
       "4   1061.0             48.2          253.0         On      ...         \n",
       "\n",
       "   average_capacity_according_to_chart deviation_in_capacity  \\\n",
       "0                             0.993895              0.013505   \n",
       "1                             0.963030             -0.011330   \n",
       "2                             0.950681             -0.005781   \n",
       "3                             0.970874              0.026926   \n",
       "4                             0.996655             -0.008355   \n",
       "\n",
       "                                        dynamic_data  \\\n",
       "0  Muzzman1|USA|22-Mar-2014|08-Apr-2014|Model S 8...   \n",
       "1  Muzzman1|USA|22-Mar-2014|16-Apr-2015|Model S 8...   \n",
       "2  ghurenkamp|USA|07-Jun-2013|11-May-2015|Model S...   \n",
       "3  KL|USA|28-Feb-2015|11-May-2015|Model S 85D|136...   \n",
       "4  terrymisu|USA|07-May-2015|28-May-2015|Model S ...   \n",
       "\n",
       "                                         static_data  \\\n",
       "0  Muzzman1|USA|22-Mar-2014|08-Apr-2014|Model S 8...   \n",
       "1  Muzzman1|USA|22-Mar-2014|16-Apr-2015|Model S 8...   \n",
       "2  ghurenkamp|USA|07-Jun-2013|11-May-2015|Model S...   \n",
       "3  KL|USA|28-Feb-2015|11-May-2015|Model S 85D|136...   \n",
       "4  terrymisu|USA|07-May-2015|28-May-2015|Model S ...   \n",
       "\n",
       "                                          mixed_data  book_keeping1  \\\n",
       "0  Muzzman1|USA|22-Mar-2014|08-Apr-2014|Model S 8...            NaN   \n",
       "1  Muzzman1|USA|22-Mar-2014|16-Apr-2015|Model S 8...            NaN   \n",
       "2  ghurenkamp|USA|07-Jun-2013|11-May-2015|Model S...            NaN   \n",
       "3  KL|USA|28-Feb-2015|11-May-2015|Model S 85D|136...            NaN   \n",
       "4  terrymisu|USA|07-May-2015|28-May-2015|Model S ...            NaN   \n",
       "\n",
       "   book_keeping2  book_keeping3  book_keeping4  book_keeping5  \n",
       "0            NaN            NaN            NaN            NaN  \n",
       "1            NaN            NaN            NaN            NaN  \n",
       "2            NaN            NaN            NaN            NaN  \n",
       "3            NaN            NaN            NaN            NaN  \n",
       "4            NaN            NaN            NaN            NaN  \n",
       "\n",
       "[5 rows x 54 columns]"
      ]
     },
     "execution_count": 16,
     "metadata": {},
     "output_type": "execute_result"
    }
   ],
   "source": [
    "usa.head()"
   ]
  },
  {
   "cell_type": "code",
   "execution_count": 17,
   "metadata": {},
   "outputs": [
    {
     "data": {
      "text/plain": [
       "0    433.0\n",
       "1    433.0\n",
       "2    433.0\n",
       "3    433.0\n",
       "4    433.0\n",
       "Name: range_when_new, dtype: float64"
      ]
     },
     "execution_count": 17,
     "metadata": {},
     "output_type": "execute_result"
    }
   ],
   "source": [
    "canada.range_when_new.head()"
   ]
  },
  {
   "cell_type": "code",
   "execution_count": 18,
   "metadata": {
    "collapsed": true
   },
   "outputs": [],
   "source": [
    "def km_to_mi(column):\n",
    "    return column * 0.621371\n",
    "def wh_km_to_wh_mi(column):\n",
    "    return column * 1.60934"
   ]
  },
  {
   "cell_type": "code",
   "execution_count": 19,
   "metadata": {
    "collapsed": true
   },
   "outputs": [],
   "source": [
    "columns_to_convert = ['range_when_new', 'mileage_per_day', 'mileage', 'range_at_full', 'range_after_correction']\n",
    "for column in columns_to_convert:\n",
    "    canada[column] = km_to_mi(canada[column])\n",
    "    asia_pacific_europe[column] = km_to_mi(asia_pacific_europe[column])"
   ]
  },
  {
   "cell_type": "code",
   "execution_count": 20,
   "metadata": {
    "collapsed": true
   },
   "outputs": [],
   "source": [
    "canada.lifetime_avg_energy_consumption = wh_km_to_wh_mi(canada.lifetime_avg_energy_consumption)\n",
    "asia_pacific_europe.lifetime_avg_energy_consumption = wh_km_to_wh_mi(asia_pacific_europe.lifetime_avg_energy_consumption)"
   ]
  },
  {
   "cell_type": "markdown",
   "metadata": {},
   "source": [
    "Now, we can merge the dataframes corresponding to different locations."
   ]
  },
  {
   "cell_type": "code",
   "execution_count": 21,
   "metadata": {
    "collapsed": true
   },
   "outputs": [],
   "source": [
    "#merge the location data frames to obtain one data frame for tesla survey\n",
    "locations = [asia_pacific_europe, usa, canada, uk]\n",
    "tesla_survey = pd.concat(locations,ignore_index=True)\n",
    "\n",
    "#inspect the master data frame for tesla survey\n",
    "tesla_survey['id'] = tesla_survey.index.values+1"
   ]
  },
  {
   "cell_type": "code",
   "execution_count": 22,
   "metadata": {},
   "outputs": [
    {
     "data": {
      "text/html": [
       "<div>\n",
       "<style>\n",
       "    .dataframe thead tr:only-child th {\n",
       "        text-align: right;\n",
       "    }\n",
       "\n",
       "    .dataframe thead th {\n",
       "        text-align: left;\n",
       "    }\n",
       "\n",
       "    .dataframe tbody tr th {\n",
       "        vertical-align: top;\n",
       "    }\n",
       "</style>\n",
       "<table border=\"1\" class=\"dataframe\">\n",
       "  <thead>\n",
       "    <tr style=\"text-align: right;\">\n",
       "      <th></th>\n",
       "      <th>id</th>\n",
       "      <th>username</th>\n",
       "      <th>location</th>\n",
       "      <th>manufacture_date</th>\n",
       "      <th>range_reading_date</th>\n",
       "      <th>model</th>\n",
       "      <th>mileage</th>\n",
       "      <th>mileage_per_day</th>\n",
       "      <th>range_at_full</th>\n",
       "      <th>range_mode</th>\n",
       "      <th>...</th>\n",
       "      <th>average_capacity_according_to_chart</th>\n",
       "      <th>deviation_in_capacity</th>\n",
       "      <th>dynamic_data</th>\n",
       "      <th>static_data</th>\n",
       "      <th>mixed_data</th>\n",
       "      <th>book_keeping1</th>\n",
       "      <th>book_keeping2</th>\n",
       "      <th>book_keeping3</th>\n",
       "      <th>book_keeping4</th>\n",
       "      <th>book_keeping5</th>\n",
       "    </tr>\n",
       "  </thead>\n",
       "  <tbody>\n",
       "    <tr>\n",
       "      <th>1146</th>\n",
       "      <td>1147</td>\n",
       "      <td>Simon Mac</td>\n",
       "      <td>UK</td>\n",
       "      <td>2014-05-21</td>\n",
       "      <td>2015-10-23</td>\n",
       "      <td>Model S 60</td>\n",
       "      <td>10500.0</td>\n",
       "      <td>20.2</td>\n",
       "      <td>180.0</td>\n",
       "      <td>On</td>\n",
       "      <td>...</td>\n",
       "      <td>0.975515</td>\n",
       "      <td>0.024485</td>\n",
       "      <td>Simon Mac|UK|21-May-2014|23-Oct-2015|Model S 6...</td>\n",
       "      <td>Simon Mac|UK|21-May-2014|23-Oct-2015|Model S 6...</td>\n",
       "      <td>Simon Mac|UK|21-May-2014|23-Oct-2015|Model S 6...</td>\n",
       "      <td>NaN</td>\n",
       "      <td>NaN</td>\n",
       "      <td>NaN</td>\n",
       "      <td>NaN</td>\n",
       "      <td>NaN</td>\n",
       "    </tr>\n",
       "    <tr>\n",
       "      <th>1147</th>\n",
       "      <td>1148</td>\n",
       "      <td>memesweeper</td>\n",
       "      <td>UK</td>\n",
       "      <td>2015-10-12</td>\n",
       "      <td>2016-11-02</td>\n",
       "      <td>Model S 85D</td>\n",
       "      <td>34653.0</td>\n",
       "      <td>89.3</td>\n",
       "      <td>256.0</td>\n",
       "      <td>Off</td>\n",
       "      <td>...</td>\n",
       "      <td>0.954385</td>\n",
       "      <td>0.016515</td>\n",
       "      <td>memesweeper|UK|12-Oct-2015|02-Nov-2016|Model S...</td>\n",
       "      <td>memesweeper|UK|12-Oct-2015|02-Nov-2016|Model S...</td>\n",
       "      <td>memesweeper|UK|12-Oct-2015|02-Nov-2016|Model S...</td>\n",
       "      <td>NaN</td>\n",
       "      <td>NaN</td>\n",
       "      <td>NaN</td>\n",
       "      <td>NaN</td>\n",
       "      <td>NaN</td>\n",
       "    </tr>\n",
       "    <tr>\n",
       "      <th>1148</th>\n",
       "      <td>1149</td>\n",
       "      <td>gyroscope</td>\n",
       "      <td>UK</td>\n",
       "      <td>2015-05-14</td>\n",
       "      <td>2016-11-20</td>\n",
       "      <td>Model S 85</td>\n",
       "      <td>45959.0</td>\n",
       "      <td>82.5</td>\n",
       "      <td>231.0</td>\n",
       "      <td>Off</td>\n",
       "      <td>...</td>\n",
       "      <td>0.949890</td>\n",
       "      <td>-0.006690</td>\n",
       "      <td>gyroscope|UK|14-May-2015|20-Nov-2016|Model S 8...</td>\n",
       "      <td>gyroscope|UK|14-May-2015|20-Nov-2016|Model S 8...</td>\n",
       "      <td>gyroscope|UK|14-May-2015|20-Nov-2016|Model S 8...</td>\n",
       "      <td>NaN</td>\n",
       "      <td>NaN</td>\n",
       "      <td>NaN</td>\n",
       "      <td>NaN</td>\n",
       "      <td>NaN</td>\n",
       "    </tr>\n",
       "    <tr>\n",
       "      <th>1149</th>\n",
       "      <td>1150</td>\n",
       "      <td>tes</td>\n",
       "      <td>UK</td>\n",
       "      <td>2015-03-02</td>\n",
       "      <td>2016-12-14</td>\n",
       "      <td>Model S 85</td>\n",
       "      <td>37895.0</td>\n",
       "      <td>57.9</td>\n",
       "      <td>238.0</td>\n",
       "      <td>On</td>\n",
       "      <td>...</td>\n",
       "      <td>0.952944</td>\n",
       "      <td>0.006756</td>\n",
       "      <td>tes|UK|02-Mar-2015|14-Dec-2016|Model S 85|3789...</td>\n",
       "      <td>tes|UK|02-Mar-2015|14-Dec-2016|Model S 85|3789...</td>\n",
       "      <td>tes|UK|02-Mar-2015|14-Dec-2016|Model S 85|3789...</td>\n",
       "      <td>NaN</td>\n",
       "      <td>NaN</td>\n",
       "      <td>NaN</td>\n",
       "      <td>NaN</td>\n",
       "      <td>NaN</td>\n",
       "    </tr>\n",
       "    <tr>\n",
       "      <th>1150</th>\n",
       "      <td>1151</td>\n",
       "      <td>4dme</td>\n",
       "      <td>UK</td>\n",
       "      <td>2016-06-20</td>\n",
       "      <td>2016-12-24</td>\n",
       "      <td>Model S 85</td>\n",
       "      <td>16800.0</td>\n",
       "      <td>89.4</td>\n",
       "      <td>242.0</td>\n",
       "      <td>Off</td>\n",
       "      <td>...</td>\n",
       "      <td>0.967119</td>\n",
       "      <td>0.020981</td>\n",
       "      <td>4dme|UK|20-Jun-2016|24-Dec-2016|Model S 85|168...</td>\n",
       "      <td>4dme|UK|20-Jun-2016|24-Dec-2016|Model S 85|168...</td>\n",
       "      <td>4dme|UK|20-Jun-2016|24-Dec-2016|Model S 85|168...</td>\n",
       "      <td>NaN</td>\n",
       "      <td>NaN</td>\n",
       "      <td>NaN</td>\n",
       "      <td>NaN</td>\n",
       "      <td>NaN</td>\n",
       "    </tr>\n",
       "    <tr>\n",
       "      <th>1151</th>\n",
       "      <td>1152</td>\n",
       "      <td>Justin</td>\n",
       "      <td>UK</td>\n",
       "      <td>2016-01-06</td>\n",
       "      <td>2017-04-25</td>\n",
       "      <td>Model S 85D</td>\n",
       "      <td>49129.0</td>\n",
       "      <td>103.2</td>\n",
       "      <td>266.0</td>\n",
       "      <td>Off</td>\n",
       "      <td>...</td>\n",
       "      <td>0.948833</td>\n",
       "      <td>0.060067</td>\n",
       "      <td>Justin|UK|06-Jan-2016|25-Apr-2017|Model S 85D|...</td>\n",
       "      <td>Justin|UK|06-Jan-2016|25-Apr-2017|Model S 85D|...</td>\n",
       "      <td>Justin|UK|06-Jan-2016|25-Apr-2017|Model S 85D|...</td>\n",
       "      <td>NaN</td>\n",
       "      <td>NaN</td>\n",
       "      <td>NaN</td>\n",
       "      <td>NaN</td>\n",
       "      <td>NaN</td>\n",
       "    </tr>\n",
       "    <tr>\n",
       "      <th>1152</th>\n",
       "      <td>1153</td>\n",
       "      <td>Patrick</td>\n",
       "      <td>UK</td>\n",
       "      <td>2014-12-30</td>\n",
       "      <td>2017-04-17</td>\n",
       "      <td>Model S 85</td>\n",
       "      <td>49900.0</td>\n",
       "      <td>59.4</td>\n",
       "      <td>239.0</td>\n",
       "      <td>On</td>\n",
       "      <td>...</td>\n",
       "      <td>0.948585</td>\n",
       "      <td>0.015115</td>\n",
       "      <td>Patrick|UK|30-Dec-2014|17-Apr-2017|Model S 85|...</td>\n",
       "      <td>Patrick|UK|30-Dec-2014|17-Apr-2017|Model S 85|...</td>\n",
       "      <td>Patrick|UK|30-Dec-2014|17-Apr-2017|Model S 85|...</td>\n",
       "      <td>NaN</td>\n",
       "      <td>NaN</td>\n",
       "      <td>NaN</td>\n",
       "      <td>NaN</td>\n",
       "      <td>NaN</td>\n",
       "    </tr>\n",
       "    <tr>\n",
       "      <th>1153</th>\n",
       "      <td>1154</td>\n",
       "      <td>Gary</td>\n",
       "      <td>UK</td>\n",
       "      <td>2017-03-17</td>\n",
       "      <td>2017-04-22</td>\n",
       "      <td>Model S 60D</td>\n",
       "      <td>2271.0</td>\n",
       "      <td>61.4</td>\n",
       "      <td>205.0</td>\n",
       "      <td>Off</td>\n",
       "      <td>...</td>\n",
       "      <td>0.993132</td>\n",
       "      <td>0.009768</td>\n",
       "      <td>Gary|UK|17-Mar-2017|22-Apr-2017|Model S 60D|22...</td>\n",
       "      <td>Gary|UK|17-Mar-2017|22-Apr-2017|Model S 60D|22...</td>\n",
       "      <td>Gary|UK|17-Mar-2017|22-Apr-2017|Model S 60D|22...</td>\n",
       "      <td>NaN</td>\n",
       "      <td>NaN</td>\n",
       "      <td>NaN</td>\n",
       "      <td>NaN</td>\n",
       "      <td>NaN</td>\n",
       "    </tr>\n",
       "    <tr>\n",
       "      <th>1154</th>\n",
       "      <td>1155</td>\n",
       "      <td>John</td>\n",
       "      <td>UK</td>\n",
       "      <td>NaT</td>\n",
       "      <td>2017-08-18</td>\n",
       "      <td>Model S 75D</td>\n",
       "      <td>3000.0</td>\n",
       "      <td>NaN</td>\n",
       "      <td>238.7</td>\n",
       "      <td>On</td>\n",
       "      <td>...</td>\n",
       "      <td>0.991147</td>\n",
       "      <td>-0.000647</td>\n",
       "      <td>John|UK|30-Dec-1899|18-Aug-2017|Model S 75D|30...</td>\n",
       "      <td>John|UK|30-Dec-1899|18-Aug-2017|Model S 75D|30...</td>\n",
       "      <td>John|UK|30-Dec-1899|18-Aug-2017|Model S 75D|30...</td>\n",
       "      <td>NaN</td>\n",
       "      <td>NaN</td>\n",
       "      <td>NaN</td>\n",
       "      <td>NaN</td>\n",
       "      <td>NaN</td>\n",
       "    </tr>\n",
       "    <tr>\n",
       "      <th>1155</th>\n",
       "      <td>1156</td>\n",
       "      <td>DH12345</td>\n",
       "      <td>UK</td>\n",
       "      <td>2015-03-01</td>\n",
       "      <td>2017-10-04</td>\n",
       "      <td>Model S 85</td>\n",
       "      <td>58633.0</td>\n",
       "      <td>61.8</td>\n",
       "      <td>241.0</td>\n",
       "      <td>On</td>\n",
       "      <td>...</td>\n",
       "      <td>0.945952</td>\n",
       "      <td>0.025848</td>\n",
       "      <td>DH12345|UK|01-Mar-2015|04-Oct-2017|Model S 85|...</td>\n",
       "      <td>DH12345|UK|01-Mar-2015|04-Oct-2017|Model S 85|...</td>\n",
       "      <td>DH12345|UK|01-Mar-2015|04-Oct-2017|Model S 85|...</td>\n",
       "      <td>NaN</td>\n",
       "      <td>NaN</td>\n",
       "      <td>NaN</td>\n",
       "      <td>NaN</td>\n",
       "      <td>NaN</td>\n",
       "    </tr>\n",
       "  </tbody>\n",
       "</table>\n",
       "<p>10 rows × 54 columns</p>\n",
       "</div>"
      ],
      "text/plain": [
       "        id     username location manufacture_date range_reading_date  \\\n",
       "1146  1147    Simon Mac       UK       2014-05-21         2015-10-23   \n",
       "1147  1148  memesweeper       UK       2015-10-12         2016-11-02   \n",
       "1148  1149    gyroscope       UK       2015-05-14         2016-11-20   \n",
       "1149  1150          tes       UK       2015-03-02         2016-12-14   \n",
       "1150  1151         4dme       UK       2016-06-20         2016-12-24   \n",
       "1151  1152       Justin       UK       2016-01-06         2017-04-25   \n",
       "1152  1153      Patrick       UK       2014-12-30         2017-04-17   \n",
       "1153  1154         Gary       UK       2017-03-17         2017-04-22   \n",
       "1154  1155         John       UK              NaT         2017-08-18   \n",
       "1155  1156      DH12345       UK       2015-03-01         2017-10-04   \n",
       "\n",
       "            model  mileage  mileage_per_day  range_at_full range_mode  \\\n",
       "1146   Model S 60  10500.0             20.2          180.0         On   \n",
       "1147  Model S 85D  34653.0             89.3          256.0        Off   \n",
       "1148   Model S 85  45959.0             82.5          231.0        Off   \n",
       "1149   Model S 85  37895.0             57.9          238.0         On   \n",
       "1150   Model S 85  16800.0             89.4          242.0        Off   \n",
       "1151  Model S 85D  49129.0            103.2          266.0        Off   \n",
       "1152   Model S 85  49900.0             59.4          239.0         On   \n",
       "1153  Model S 60D   2271.0             61.4          205.0        Off   \n",
       "1154  Model S 75D   3000.0              NaN          238.7         On   \n",
       "1155   Model S 85  58633.0             61.8          241.0         On   \n",
       "\n",
       "          ...        average_capacity_according_to_chart  \\\n",
       "1146      ...                                   0.975515   \n",
       "1147      ...                                   0.954385   \n",
       "1148      ...                                   0.949890   \n",
       "1149      ...                                   0.952944   \n",
       "1150      ...                                   0.967119   \n",
       "1151      ...                                   0.948833   \n",
       "1152      ...                                   0.948585   \n",
       "1153      ...                                   0.993132   \n",
       "1154      ...                                   0.991147   \n",
       "1155      ...                                   0.945952   \n",
       "\n",
       "     deviation_in_capacity                                       dynamic_data  \\\n",
       "1146              0.024485  Simon Mac|UK|21-May-2014|23-Oct-2015|Model S 6...   \n",
       "1147              0.016515  memesweeper|UK|12-Oct-2015|02-Nov-2016|Model S...   \n",
       "1148             -0.006690  gyroscope|UK|14-May-2015|20-Nov-2016|Model S 8...   \n",
       "1149              0.006756  tes|UK|02-Mar-2015|14-Dec-2016|Model S 85|3789...   \n",
       "1150              0.020981  4dme|UK|20-Jun-2016|24-Dec-2016|Model S 85|168...   \n",
       "1151              0.060067  Justin|UK|06-Jan-2016|25-Apr-2017|Model S 85D|...   \n",
       "1152              0.015115  Patrick|UK|30-Dec-2014|17-Apr-2017|Model S 85|...   \n",
       "1153              0.009768  Gary|UK|17-Mar-2017|22-Apr-2017|Model S 60D|22...   \n",
       "1154             -0.000647  John|UK|30-Dec-1899|18-Aug-2017|Model S 75D|30...   \n",
       "1155              0.025848  DH12345|UK|01-Mar-2015|04-Oct-2017|Model S 85|...   \n",
       "\n",
       "                                            static_data  \\\n",
       "1146  Simon Mac|UK|21-May-2014|23-Oct-2015|Model S 6...   \n",
       "1147  memesweeper|UK|12-Oct-2015|02-Nov-2016|Model S...   \n",
       "1148  gyroscope|UK|14-May-2015|20-Nov-2016|Model S 8...   \n",
       "1149  tes|UK|02-Mar-2015|14-Dec-2016|Model S 85|3789...   \n",
       "1150  4dme|UK|20-Jun-2016|24-Dec-2016|Model S 85|168...   \n",
       "1151  Justin|UK|06-Jan-2016|25-Apr-2017|Model S 85D|...   \n",
       "1152  Patrick|UK|30-Dec-2014|17-Apr-2017|Model S 85|...   \n",
       "1153  Gary|UK|17-Mar-2017|22-Apr-2017|Model S 60D|22...   \n",
       "1154  John|UK|30-Dec-1899|18-Aug-2017|Model S 75D|30...   \n",
       "1155  DH12345|UK|01-Mar-2015|04-Oct-2017|Model S 85|...   \n",
       "\n",
       "                                             mixed_data  book_keeping1  \\\n",
       "1146  Simon Mac|UK|21-May-2014|23-Oct-2015|Model S 6...            NaN   \n",
       "1147  memesweeper|UK|12-Oct-2015|02-Nov-2016|Model S...            NaN   \n",
       "1148  gyroscope|UK|14-May-2015|20-Nov-2016|Model S 8...            NaN   \n",
       "1149  tes|UK|02-Mar-2015|14-Dec-2016|Model S 85|3789...            NaN   \n",
       "1150  4dme|UK|20-Jun-2016|24-Dec-2016|Model S 85|168...            NaN   \n",
       "1151  Justin|UK|06-Jan-2016|25-Apr-2017|Model S 85D|...            NaN   \n",
       "1152  Patrick|UK|30-Dec-2014|17-Apr-2017|Model S 85|...            NaN   \n",
       "1153  Gary|UK|17-Mar-2017|22-Apr-2017|Model S 60D|22...            NaN   \n",
       "1154  John|UK|30-Dec-1899|18-Aug-2017|Model S 75D|30...            NaN   \n",
       "1155  DH12345|UK|01-Mar-2015|04-Oct-2017|Model S 85|...            NaN   \n",
       "\n",
       "      book_keeping2  book_keeping3  book_keeping4  book_keeping5  \n",
       "1146            NaN            NaN            NaN            NaN  \n",
       "1147            NaN            NaN            NaN            NaN  \n",
       "1148            NaN            NaN            NaN            NaN  \n",
       "1149            NaN            NaN            NaN            NaN  \n",
       "1150            NaN            NaN            NaN            NaN  \n",
       "1151            NaN            NaN            NaN            NaN  \n",
       "1152            NaN            NaN            NaN            NaN  \n",
       "1153            NaN            NaN            NaN            NaN  \n",
       "1154            NaN            NaN            NaN            NaN  \n",
       "1155            NaN            NaN            NaN            NaN  \n",
       "\n",
       "[10 rows x 54 columns]"
      ]
     },
     "execution_count": 22,
     "metadata": {},
     "output_type": "execute_result"
    }
   ],
   "source": [
    "tesla_survey.tail(10)"
   ]
  },
  {
   "cell_type": "markdown",
   "metadata": {},
   "source": [
    "Now, we can eliminate the last 5 columns denoted with \"book_keeping...\". They are used by the owner of the google spreadsheet document to make sure that no \"cell vandalism\" took place as the document is available for anyone. We do not need this information for analysis as it is evident that no rows were changed."
   ]
  },
  {
   "cell_type": "code",
   "execution_count": 23,
   "metadata": {
    "collapsed": true
   },
   "outputs": [],
   "source": [
    "#remove null book_keeping attributes\n",
    "columns_to_remove = ['book_keeping1','book_keeping2','book_keeping3', 'book_keeping4', 'book_keeping5']\n",
    "tesla_survey.drop(columns_to_remove, inplace=True, axis=1)"
   ]
  },
  {
   "cell_type": "code",
   "execution_count": 24,
   "metadata": {},
   "outputs": [
    {
     "data": {
      "text/plain": [
       "id                                        0\n",
       "username                                  0\n",
       "location                                  0\n",
       "manufacture_date                          4\n",
       "range_reading_date                        0\n",
       "model                                     0\n",
       "mileage                                   0\n",
       "mileage_per_day                           4\n",
       "range_at_full                             0\n",
       "range_mode                                0\n",
       "range_after_correction                    0\n",
       "battery_replacement                       0\n",
       "change_after_replacement               1090\n",
       "range_at_replacement                   1091\n",
       "mileage_after_replacement                 0\n",
       "battery_age                               4\n",
       "lifetime_avg_energy_consumption          14\n",
       "range_when_new                            0\n",
       "remaining_range                           0\n",
       "remaining_capacity                        0\n",
       "unanswered                                0\n",
       "supercharging_frequency                  96\n",
       "full_charge_frequency                   100\n",
       "empty_charge_frequency                  100\n",
       "daily_charge                            257\n",
       "daily_charge_power                      433\n",
       "new_car_range                           586\n",
       "range_mode_new                          576\n",
       "typical_range_trip_start               1054\n",
       "typical_range_trip_end                 1061\n",
       "trip_consumption                       1067\n",
       "range_mode_trip                        1061\n",
       "comments                                767\n",
       "typical_range_consumption              1051\n",
       "typical_range_correction               1069\n",
       "remaining_usable_capacity              1069\n",
       "remaining_original_capacity            1069\n",
       "trip_based_capacity                    1069\n",
       "range_mode_adjustment                   586\n",
       "vehicle_age                               4\n",
       "vehicle_cycles                           14\n",
       "mileage_in_km                             0\n",
       "wh_km                                    14\n",
       "used_for_chart                          922\n",
       "average_capacity_according_to_chart       0\n",
       "deviation_in_capacity                     0\n",
       "dynamic_data                              0\n",
       "static_data                               0\n",
       "mixed_data                                0\n",
       "dtype: int64"
      ]
     },
     "execution_count": 24,
     "metadata": {},
     "output_type": "execute_result"
    }
   ],
   "source": [
    "#determining the null values in each column\n",
    "tesla_survey.isnull().sum()"
   ]
  },
  {
   "cell_type": "markdown",
   "metadata": {},
   "source": [
    "It is evident that most users decided not to provide optional information about the typical range of consumption for their last trip (columns \"typical_range_trip_start\":\"trip_based_capacity\"). Therefore, these columns should be excluded."
   ]
  },
  {
   "cell_type": "code",
   "execution_count": 25,
   "metadata": {
    "collapsed": true
   },
   "outputs": [],
   "source": [
    "columns_to_remove = ['typical_range_trip_start','typical_range_trip_end','trip_consumption', 'range_mode_trip', \n",
    "                     'typical_range_consumption', 'typical_range_correction','remaining_usable_capacity',\n",
    "                    'remaining_original_capacity','trip_based_capacity']\n",
    "tesla_survey.drop(columns_to_remove, inplace=True, axis=1)"
   ]
  },
  {
   "cell_type": "markdown",
   "metadata": {},
   "source": [
    "\"used_for_chart\" information is used for plotting data in excel. We can eliminate it from the data frame."
   ]
  },
  {
   "cell_type": "code",
   "execution_count": 26,
   "metadata": {
    "collapsed": true
   },
   "outputs": [],
   "source": [
    "tesla_survey.drop('used_for_chart', inplace=True, axis=1)"
   ]
  },
  {
   "cell_type": "markdown",
   "metadata": {},
   "source": [
    "It seems like there are some points that do not have a date of car manufacturing which makes it impossible to calculate the age of the battery and mileage per day. However, these values still provide information about the total mileage of the car as well as remaining capacity. We will have to exclude these 4 values when we explore the dependence of the range on battery age and mileage per day. "
   ]
  },
  {
   "cell_type": "code",
   "execution_count": 27,
   "metadata": {
    "scrolled": false
   },
   "outputs": [
    {
     "data": {
      "text/html": [
       "<div>\n",
       "<style>\n",
       "    .dataframe thead tr:only-child th {\n",
       "        text-align: right;\n",
       "    }\n",
       "\n",
       "    .dataframe thead th {\n",
       "        text-align: left;\n",
       "    }\n",
       "\n",
       "    .dataframe tbody tr th {\n",
       "        vertical-align: top;\n",
       "    }\n",
       "</style>\n",
       "<table border=\"1\" class=\"dataframe\">\n",
       "  <thead>\n",
       "    <tr style=\"text-align: right;\">\n",
       "      <th></th>\n",
       "      <th>id</th>\n",
       "      <th>username</th>\n",
       "      <th>location</th>\n",
       "      <th>manufacture_date</th>\n",
       "      <th>range_reading_date</th>\n",
       "      <th>model</th>\n",
       "      <th>mileage</th>\n",
       "      <th>mileage_per_day</th>\n",
       "      <th>range_at_full</th>\n",
       "      <th>range_mode</th>\n",
       "      <th>...</th>\n",
       "      <th>range_mode_adjustment</th>\n",
       "      <th>vehicle_age</th>\n",
       "      <th>vehicle_cycles</th>\n",
       "      <th>mileage_in_km</th>\n",
       "      <th>wh_km</th>\n",
       "      <th>average_capacity_according_to_chart</th>\n",
       "      <th>deviation_in_capacity</th>\n",
       "      <th>dynamic_data</th>\n",
       "      <th>static_data</th>\n",
       "      <th>mixed_data</th>\n",
       "    </tr>\n",
       "  </thead>\n",
       "  <tbody>\n",
       "    <tr>\n",
       "      <th>73</th>\n",
       "      <td>74</td>\n",
       "      <td>RealNuke</td>\n",
       "      <td>Asia Pacific &amp; Europe (excl UK)</td>\n",
       "      <td>NaT</td>\n",
       "      <td>2015-01-15</td>\n",
       "      <td>Unspecified 85 kWh</td>\n",
       "      <td>19933.581680</td>\n",
       "      <td>NaN</td>\n",
       "      <td>236.120980</td>\n",
       "      <td>Off</td>\n",
       "      <td>...</td>\n",
       "      <td>NaN</td>\n",
       "      <td>NaN</td>\n",
       "      <td>113.93</td>\n",
       "      <td>32080.0</td>\n",
       "      <td>270.0</td>\n",
       "      <td>0.963979</td>\n",
       "      <td>-0.001979</td>\n",
       "      <td>RealNuke|Asia Pacific &amp; Europe (excl UK)|30-De...</td>\n",
       "      <td>RealNuke|Asia Pacific &amp; Europe (excl UK)|30-De...</td>\n",
       "      <td>RealNuke|Asia Pacific &amp; Europe (excl UK)|30-De...</td>\n",
       "    </tr>\n",
       "    <tr>\n",
       "      <th>218</th>\n",
       "      <td>219</td>\n",
       "      <td>Eelcodb</td>\n",
       "      <td>Asia Pacific &amp; Europe (excl UK)</td>\n",
       "      <td>NaT</td>\n",
       "      <td>2015-07-31</td>\n",
       "      <td>Model S 85</td>\n",
       "      <td>8202.097200</td>\n",
       "      <td>NaN</td>\n",
       "      <td>238.606464</td>\n",
       "      <td>Off</td>\n",
       "      <td>...</td>\n",
       "      <td>NaN</td>\n",
       "      <td>NaN</td>\n",
       "      <td>33.99</td>\n",
       "      <td>13200.0</td>\n",
       "      <td>197.0</td>\n",
       "      <td>0.979508</td>\n",
       "      <td>-0.004908</td>\n",
       "      <td>Eelcodb|Asia Pacific &amp; Europe (excl UK)|30-Dec...</td>\n",
       "      <td>Eelcodb|Asia Pacific &amp; Europe (excl UK)|30-Dec...</td>\n",
       "      <td>Eelcodb|Asia Pacific &amp; Europe (excl UK)|30-Dec...</td>\n",
       "    </tr>\n",
       "    <tr>\n",
       "      <th>881</th>\n",
       "      <td>882</td>\n",
       "      <td>Dakine</td>\n",
       "      <td>Asia Pacific &amp; Europe (excl UK)</td>\n",
       "      <td>NaT</td>\n",
       "      <td>2017-09-28</td>\n",
       "      <td>Model S 75</td>\n",
       "      <td>9200.019026</td>\n",
       "      <td>NaN</td>\n",
       "      <td>235.499609</td>\n",
       "      <td>Off</td>\n",
       "      <td>...</td>\n",
       "      <td>NaN</td>\n",
       "      <td>NaN</td>\n",
       "      <td>NaN</td>\n",
       "      <td>14806.0</td>\n",
       "      <td>NaN</td>\n",
       "      <td>0.977701</td>\n",
       "      <td>0.016599</td>\n",
       "      <td>Dakine|Asia Pacific &amp; Europe (excl UK)|30-Dec-...</td>\n",
       "      <td>Dakine|Asia Pacific &amp; Europe (excl UK)|30-Dec-...</td>\n",
       "      <td>Dakine|Asia Pacific &amp; Europe (excl UK)|30-Dec-...</td>\n",
       "    </tr>\n",
       "    <tr>\n",
       "      <th>1154</th>\n",
       "      <td>1155</td>\n",
       "      <td>John</td>\n",
       "      <td>UK</td>\n",
       "      <td>NaT</td>\n",
       "      <td>2017-08-18</td>\n",
       "      <td>Model S 75D</td>\n",
       "      <td>3000.000000</td>\n",
       "      <td>NaN</td>\n",
       "      <td>238.700000</td>\n",
       "      <td>On</td>\n",
       "      <td>...</td>\n",
       "      <td>NaN</td>\n",
       "      <td>NaN</td>\n",
       "      <td>12.66</td>\n",
       "      <td>4828.0</td>\n",
       "      <td>190.0</td>\n",
       "      <td>0.991147</td>\n",
       "      <td>-0.000647</td>\n",
       "      <td>John|UK|30-Dec-1899|18-Aug-2017|Model S 75D|30...</td>\n",
       "      <td>John|UK|30-Dec-1899|18-Aug-2017|Model S 75D|30...</td>\n",
       "      <td>John|UK|30-Dec-1899|18-Aug-2017|Model S 75D|30...</td>\n",
       "    </tr>\n",
       "  </tbody>\n",
       "</table>\n",
       "<p>4 rows × 39 columns</p>\n",
       "</div>"
      ],
      "text/plain": [
       "        id  username                         location manufacture_date  \\\n",
       "73      74  RealNuke  Asia Pacific & Europe (excl UK)              NaT   \n",
       "218    219   Eelcodb  Asia Pacific & Europe (excl UK)              NaT   \n",
       "881    882    Dakine  Asia Pacific & Europe (excl UK)              NaT   \n",
       "1154  1155      John                               UK              NaT   \n",
       "\n",
       "     range_reading_date               model       mileage  mileage_per_day  \\\n",
       "73           2015-01-15  Unspecified 85 kWh  19933.581680              NaN   \n",
       "218          2015-07-31          Model S 85   8202.097200              NaN   \n",
       "881          2017-09-28          Model S 75   9200.019026              NaN   \n",
       "1154         2017-08-18         Model S 75D   3000.000000              NaN   \n",
       "\n",
       "      range_at_full range_mode  \\\n",
       "73       236.120980        Off   \n",
       "218      238.606464        Off   \n",
       "881      235.499609        Off   \n",
       "1154     238.700000         On   \n",
       "\n",
       "                            ...                          \\\n",
       "73                          ...                           \n",
       "218                         ...                           \n",
       "881                         ...                           \n",
       "1154                        ...                           \n",
       "\n",
       "      range_mode_adjustment vehicle_age vehicle_cycles  mileage_in_km  wh_km  \\\n",
       "73                      NaN         NaN         113.93        32080.0  270.0   \n",
       "218                     NaN         NaN          33.99        13200.0  197.0   \n",
       "881                     NaN         NaN            NaN        14806.0    NaN   \n",
       "1154                    NaN         NaN          12.66         4828.0  190.0   \n",
       "\n",
       "      average_capacity_according_to_chart  deviation_in_capacity  \\\n",
       "73                               0.963979              -0.001979   \n",
       "218                              0.979508              -0.004908   \n",
       "881                              0.977701               0.016599   \n",
       "1154                             0.991147              -0.000647   \n",
       "\n",
       "                                           dynamic_data  \\\n",
       "73    RealNuke|Asia Pacific & Europe (excl UK)|30-De...   \n",
       "218   Eelcodb|Asia Pacific & Europe (excl UK)|30-Dec...   \n",
       "881   Dakine|Asia Pacific & Europe (excl UK)|30-Dec-...   \n",
       "1154  John|UK|30-Dec-1899|18-Aug-2017|Model S 75D|30...   \n",
       "\n",
       "                                            static_data  \\\n",
       "73    RealNuke|Asia Pacific & Europe (excl UK)|30-De...   \n",
       "218   Eelcodb|Asia Pacific & Europe (excl UK)|30-Dec...   \n",
       "881   Dakine|Asia Pacific & Europe (excl UK)|30-Dec-...   \n",
       "1154  John|UK|30-Dec-1899|18-Aug-2017|Model S 75D|30...   \n",
       "\n",
       "                                             mixed_data  \n",
       "73    RealNuke|Asia Pacific & Europe (excl UK)|30-De...  \n",
       "218   Eelcodb|Asia Pacific & Europe (excl UK)|30-Dec...  \n",
       "881   Dakine|Asia Pacific & Europe (excl UK)|30-Dec-...  \n",
       "1154  John|UK|30-Dec-1899|18-Aug-2017|Model S 75D|30...  \n",
       "\n",
       "[4 rows x 39 columns]"
      ]
     },
     "execution_count": 27,
     "metadata": {},
     "output_type": "execute_result"
    }
   ],
   "source": [
    "tesla_survey[tesla_survey.manufacture_date.isnull()]"
   ]
  },
  {
   "cell_type": "code",
   "execution_count": 28,
   "metadata": {},
   "outputs": [
    {
     "name": "stdout",
     "output_type": "stream",
     "text": [
      "<class 'pandas.core.frame.DataFrame'>\n",
      "RangeIndex: 1156 entries, 0 to 1155\n",
      "Data columns (total 36 columns):\n",
      "id                                     1156 non-null int64\n",
      "username                               1156 non-null object\n",
      "location                               1156 non-null object\n",
      "manufacture_date                       1152 non-null datetime64[ns]\n",
      "range_reading_date                     1156 non-null datetime64[ns]\n",
      "model                                  1156 non-null object\n",
      "mileage                                1156 non-null float64\n",
      "mileage_per_day                        1152 non-null float64\n",
      "range_at_full                          1156 non-null float64\n",
      "range_mode                             1156 non-null object\n",
      "range_after_correction                 1156 non-null float64\n",
      "battery_replacement                    1156 non-null object\n",
      "change_after_replacement               66 non-null object\n",
      "range_at_replacement                   65 non-null float64\n",
      "mileage_after_replacement              1156 non-null float64\n",
      "battery_age                            1152 non-null float64\n",
      "lifetime_avg_energy_consumption        1142 non-null float64\n",
      "range_when_new                         1156 non-null float64\n",
      "remaining_range                        1156 non-null float64\n",
      "remaining_capacity                     1156 non-null float64\n",
      "unanswered                             1156 non-null float64\n",
      "supercharging_frequency                1060 non-null object\n",
      "full_charge_frequency                  1056 non-null object\n",
      "empty_charge_frequency                 1056 non-null object\n",
      "daily_charge                           899 non-null float64\n",
      "daily_charge_power                     723 non-null object\n",
      "new_car_range                          570 non-null float64\n",
      "range_mode_new                         580 non-null object\n",
      "comments                               389 non-null object\n",
      "range_mode_adjustment                  570 non-null float64\n",
      "vehicle_age                            1152 non-null float64\n",
      "vehicle_cycles                         1142 non-null float64\n",
      "mileage_in_km                          1156 non-null float64\n",
      "wh_km                                  1142 non-null float64\n",
      "average_capacity_according_to_chart    1156 non-null float64\n",
      "deviation_in_capacity                  1156 non-null float64\n",
      "dtypes: datetime64[ns](2), float64(21), int64(1), object(12)\n",
      "memory usage: 325.2+ KB\n"
     ]
    }
   ],
   "source": [
    "columns_to_remove = ['dynamic_data', 'static_data', 'mixed_data']\n",
    "tesla_survey.drop(columns_to_remove, inplace=True, axis=1)\n",
    "tesla_survey.info()"
   ]
  },
  {
   "cell_type": "markdown",
   "metadata": {},
   "source": [
    "<h3>Data exploration</h3>"
   ]
  },
  {
   "cell_type": "markdown",
   "metadata": {},
   "source": [
    "<h4>Model</h4>"
   ]
  },
  {
   "cell_type": "markdown",
   "metadata": {},
   "source": [
    "Questions:\n",
    "1. What kind of models were logged in?\n",
    "2. Are all models S?\n",
    "3. What is the difference among models? \n",
    "4. Does model affect the rate of battery degradation?"
   ]
  },
  {
   "cell_type": "markdown",
   "metadata": {},
   "source": [
    "Next, we can check how many unique models were reported by users. It seems like the majority of the models are S with varying range which depends on the battery size and P(performance) as well as the presence of dual motor (D) which increases the range by 10 miles."
   ]
  },
  {
   "cell_type": "code",
   "execution_count": 29,
   "metadata": {
    "scrolled": false
   },
   "outputs": [
    {
     "data": {
      "text/plain": [
       "Model S 85            439\n",
       "Model S P85           163\n",
       "Model S 85D           101\n",
       "Model S 70D            90\n",
       "Model S 90D            83\n",
       "Model S P85D           81\n",
       "Model S 60             44\n",
       "Model S P85+           42\n",
       "Model S 75             28\n",
       "Unspecified 85 kWh     24\n",
       "Model S 90D 2015       14\n",
       "Model S 75D            11\n",
       "Model S 70              7\n",
       "Model X 90D             7\n",
       "Model S 60D             5\n",
       "Model S P90D            5\n",
       "Model X 100D            4\n",
       "Model S P100D           4\n",
       "Model S 90              2\n",
       "Model X P90D            1\n",
       "Model X 60D             1\n",
       "Name: model, dtype: int64"
      ]
     },
     "execution_count": 29,
     "metadata": {},
     "output_type": "execute_result"
    }
   ],
   "source": [
    "tesla_survey.model.value_counts()"
   ]
  },
  {
   "cell_type": "code",
   "execution_count": 30,
   "metadata": {},
   "outputs": [
    {
     "data": {
      "image/png": "[encoded data removed]",
      "text/plain": [
       "<matplotlib.figure.Figure at 0x1a13ecd5d0>"
      ]
     },
     "metadata": {},
     "output_type": "display_data"
    }
   ],
   "source": [
    "sns.set_style('whitegrid')\n",
    "sns.set_style('ticks')\n",
    "plt.figure(figsize=(11.8, 7))\n",
    "sns.countplot(data=tesla_survey, y='model', color='blue')\n",
    "sns.despine()\n",
    "plt.xlabel('Number of users', fontsize=14)\n",
    "plt.ylabel('Model', fontsize=14)\n",
    "plt.title('Number of users per Tesla model', fontsize=16)\n",
    "plt.show()"
   ]
  },
  {
   "cell_type": "code",
   "execution_count": 31,
   "metadata": {},
   "outputs": [
    {
     "data": {
      "image/png": "[encoded data removed]",
      "text/plain": [
       "<matplotlib.figure.Figure at 0x1a13f49690>"
      ]
     },
     "metadata": {},
     "output_type": "display_data"
    }
   ],
   "source": [
    "#check how the range of the battery is affected by model\n",
    "sns.set_style('whitegrid')\n",
    "sns.set_style('ticks')\n",
    "result = tesla_survey.groupby(['model'])['range_when_new'].aggregate(np.median).reset_index().sort_values('range_when_new')\n",
    "plt.figure(figsize=(11.8, 7))\n",
    "sns.barplot(data=tesla_survey, x='range_when_new', y='model', color='grey', order=result['model'])\n",
    "sns.despine()\n",
    "plt.xlabel('Range of new car (mi)', fontsize=14)\n",
    "plt.ylabel('Model', fontsize=14)\n",
    "plt.title('Range of each new Tesla model', fontsize=16)\n",
    "plt.show()"
   ]
  },
  {
   "cell_type": "markdown",
   "metadata": {},
   "source": [
    "As expected, the models with the highest range have the largest battery size and dual-engine configuration (S P100D). Model with the lowest range is a basic S 60 with no additional packages. "
   ]
  },
  {
   "cell_type": "code",
   "execution_count": 32,
   "metadata": {
    "scrolled": false
   },
   "outputs": [
    {
     "data": {
      "image/png": "[encoded data removed]",
      "text/plain": [
       "<matplotlib.figure.Figure at 0x1a13ecd190>"
      ]
     },
     "metadata": {},
     "output_type": "display_data"
    }
   ],
   "source": [
    "#check how remaining range is affected by battery age for each model\n",
    "popular_models = ['Model S 85','Model S P85','Model S 85D','Model S 70D','Model S 90D','Model S 60' ]\n",
    "tesla_popular_models = tesla_survey[tesla_survey['model'].isin(popular_models)]\n",
    "g = sns.FacetGrid(tesla_popular_models, col='model', margin_titles=True, col_wrap=2)\n",
    "g.map(plt.scatter, \"battery_age\", \"remaining_range\", alpha=0.7)\n",
    "plt.show()"
   ]
  },
  {
   "cell_type": "markdown",
   "metadata": {},
   "source": [
    "From the graphs for the remaining range with respect to the battery age (in days), we can see that the range is affected by the battery age. It decreases linearly for smaller capacity models (like Tesla S 60) and flattens out for models in a bigger capacity range (like Tesla S 85, P85, and 90D). This might be attributed to the fact that battery degrades faster if it is smaller."
   ]
  },
  {
   "cell_type": "markdown",
   "metadata": {},
   "source": [
    "<h4>Exploration of quantitative characteristics</h4>"
   ]
  },
  {
   "cell_type": "markdown",
   "metadata": {},
   "source": [
    "Before a model is developed, it is important to explore any quantitative aspects of the data frame generated from the Tesla survey. First, we can construct a heatmap showing the correlation between different features of the Tesla survey. Cells in green show positive correlation while cells in red show negative correlation"
   ]
  },
  {
   "cell_type": "code",
   "execution_count": 33,
   "metadata": {
    "scrolled": false
   },
   "outputs": [
    {
     "data": {
      "image/png": "[encoded data removed]",
      "text/plain": [
       "<matplotlib.figure.Figure at 0x1a1cc16710>"
      ]
     },
     "metadata": {},
     "output_type": "display_data"
    }
   ],
   "source": [
    "#create a heatmap showing the correlation between different columns of tesla_survey\n",
    "columns_to_correlate = ['location', 'manufacture_date', 'range_reading_date','mileage_per_day','mileage_in_km',\n",
    "                        'battery_age', 'remaining_range', 'remaining_capacity', 'lifetime_avg_energy_consumption']\n",
    "tesla_corr = tesla_survey[columns_to_correlate]\n",
    "plt.figure(figsize=(11.8, 7))\n",
    "sns.heatmap(tesla_corr.corr(), square=True, cmap='RdYlGn', linewidths=0.5)\n",
    "plt.show()"
   ]
  },
  {
   "cell_type": "markdown",
   "metadata": {},
   "source": [
    "As expected, mileage and remaining range of the battery are negatively correlated. The battery age also negatively affects the remaining range. "
   ]
  },
  {
   "cell_type": "markdown",
   "metadata": {},
   "source": [
    "<h5>Mileage</h5>"
   ]
  },
  {
   "cell_type": "markdown",
   "metadata": {},
   "source": [
    "How does the total mileage affect the remaining range?"
   ]
  },
  {
   "cell_type": "code",
   "execution_count": 34,
   "metadata": {
    "scrolled": false
   },
   "outputs": [
    {
     "data": {
      "image/png": "[encoded data removed]",
      "text/plain": [
       "<matplotlib.figure.Figure at 0x1a13ad6690>"
      ]
     },
     "metadata": {},
     "output_type": "display_data"
    }
   ],
   "source": [
    "#plot remaining range vs mileage\n",
    "sns.lmplot('mileage_in_km', 'remaining_range', tesla_survey, fit_reg=False)\n",
    "plt.title('Remaining range with respect to mileage', fontsize=14)\n",
    "plt.xlabel('Mileage(km)', fontsize=14)\n",
    "plt.ylabel('Remaining range', fontsize=14)\n",
    "plt.show()"
   ]
  },
  {
   "cell_type": "markdown",
   "metadata": {
    "collapsed": true
   },
   "source": [
    "Remaining range is negatively correlated with mileage. It seems like the majority of the data points are concentrated around 50000 km. The tail of the scatter graph is more sparse which means that the prediction for cars with higher mileage would be less effective. However, it is evident that battery degradation is quite low (< 10%) as majority of the points are above 90% of remaining capacity. "
   ]
  },
  {
   "cell_type": "code",
   "execution_count": 35,
   "metadata": {},
   "outputs": [
    {
     "name": "stdout",
     "output_type": "stream",
     "text": [
      "Models with low mileage and low remaining range\n"
     ]
    },
    {
     "data": {
      "text/plain": [
       "Model S 60     10\n",
       "Model S 85      1\n",
       "Model S 90D     1\n",
       "Name: model, dtype: int64"
      ]
     },
     "execution_count": 35,
     "metadata": {},
     "output_type": "execute_result"
    }
   ],
   "source": [
    "smaller_mileage = tesla_survey.mileage < 100000\n",
    "low_range = tesla_survey.remaining_range < 0.90\n",
    "outliers = tesla_survey[smaller_mileage & low_range]\n",
    "print('Models with low mileage and low remaining range')\n",
    "outliers.model.value_counts()"
   ]
  },
  {
   "cell_type": "markdown",
   "metadata": {},
   "source": [
    "The majority of very low remaining range values come from the Model S 60 which implies that it might have a higher rate of battery degradation for low mileage than other models."
   ]
  },
  {
   "cell_type": "markdown",
   "metadata": {},
   "source": [
    "<h5>Battery age</h5>"
   ]
  },
  {
   "cell_type": "markdown",
   "metadata": {},
   "source": [
    "How does the battery age affect the remaining range?"
   ]
  },
  {
   "cell_type": "code",
   "execution_count": 36,
   "metadata": {},
   "outputs": [
    {
     "data": {
      "image/png": "[encoded data removed]",
      "text/plain": [
       "<matplotlib.figure.Figure at 0x1a1cbe6b10>"
      ]
     },
     "metadata": {},
     "output_type": "display_data"
    }
   ],
   "source": [
    "#plot remaining range vs battery age\n",
    "sns.lmplot('battery_age', 'remaining_range', tesla_survey, fit_reg=False)\n",
    "plt.title('Remaining range with respect to battery age', fontsize=14)\n",
    "plt.xlabel('Battery age(days)', fontsize=14)\n",
    "plt.ylabel('Remaining range', fontsize=14)\n",
    "plt.show()"
   ]
  },
  {
   "cell_type": "markdown",
   "metadata": {},
   "source": [
    "Remaining range is negatively correlated with battery age. The majority of the cars (72%) are less than 2 years old which makes battery age a less reliable predictor of the degradation. "
   ]
  },
  {
   "cell_type": "code",
   "execution_count": 37,
   "metadata": {},
   "outputs": [
    {
     "data": {
      "text/plain": [
       "{'1 year - 2 years': 386, '1 year and less': 446, '2 years and more': 320}"
      ]
     },
     "execution_count": 37,
     "metadata": {},
     "output_type": "execute_result"
    }
   ],
   "source": [
    "more_year = tesla_survey.battery_age >= 365\n",
    "less_2_years = tesla_survey.battery_age <= 730\n",
    "battery_age = {'1 year and less': len(tesla_survey[tesla_survey.battery_age < 365]), \n",
    "    '1 year - 2 years': len(tesla_survey[more_year & less_2_years]),\n",
    "               '2 years and more': len(tesla_survey[tesla_survey.battery_age > 730])}\n",
    "battery_age"
   ]
  },
  {
   "cell_type": "code",
   "execution_count": 38,
   "metadata": {
    "scrolled": false
   },
   "outputs": [
    {
     "data": {
      "text/html": [
       "<div>\n",
       "<style>\n",
       "    .dataframe thead tr:only-child th {\n",
       "        text-align: right;\n",
       "    }\n",
       "\n",
       "    .dataframe thead th {\n",
       "        text-align: left;\n",
       "    }\n",
       "\n",
       "    .dataframe tbody tr th {\n",
       "        vertical-align: top;\n",
       "    }\n",
       "</style>\n",
       "<table border=\"1\" class=\"dataframe\">\n",
       "  <thead>\n",
       "    <tr style=\"text-align: right;\">\n",
       "      <th></th>\n",
       "      <th>Total number of cars</th>\n",
       "      <th>Percentage</th>\n",
       "    </tr>\n",
       "  </thead>\n",
       "  <tbody>\n",
       "    <tr>\n",
       "      <th>1 year - 2 years</th>\n",
       "      <td>386</td>\n",
       "      <td>33.506944</td>\n",
       "    </tr>\n",
       "    <tr>\n",
       "      <th>1 year and less</th>\n",
       "      <td>446</td>\n",
       "      <td>38.715278</td>\n",
       "    </tr>\n",
       "    <tr>\n",
       "      <th>2 years and more</th>\n",
       "      <td>320</td>\n",
       "      <td>27.777778</td>\n",
       "    </tr>\n",
       "  </tbody>\n",
       "</table>\n",
       "</div>"
      ],
      "text/plain": [
       "                  Total number of cars  Percentage\n",
       "1 year - 2 years                   386   33.506944\n",
       "1 year and less                    446   38.715278\n",
       "2 years and more                   320   27.777778"
      ]
     },
     "execution_count": 38,
     "metadata": {},
     "output_type": "execute_result"
    }
   ],
   "source": [
    "battery_age_groups = pd.DataFrame.from_dict(battery_age, orient='index')\n",
    "battery_age_groups.columns = ['Total number of cars']\n",
    "battery_age_groups['Percentage'] = battery_age_groups['Total number of cars']*100/1152\n",
    "battery_age_groups"
   ]
  },
  {
   "cell_type": "markdown",
   "metadata": {},
   "source": [
    "<h5>Vehicle cycles</h5>"
   ]
  },
  {
   "cell_type": "code",
   "execution_count": 39,
   "metadata": {},
   "outputs": [
    {
     "data": {
      "image/png": "[encoded data removed]",
      "text/plain": [
       "<matplotlib.figure.Figure at 0x1a1ce36750>"
      ]
     },
     "metadata": {},
     "output_type": "display_data"
    }
   ],
   "source": [
    "plt.scatter(tesla_survey['vehicle_cycles'], tesla_survey['remaining_range'])\n",
    "plt.xlabel('Vehicle cycles')\n",
    "plt.ylabel('Remaining range')\n",
    "plt.title('Remaining range with respect to vehicle cycles')\n",
    "plt.show()"
   ]
  },
  {
   "cell_type": "markdown",
   "metadata": {},
   "source": [
    "Remaining range is negatively correlated with the number of cycles which implies that more frequent charging might contribute to battery degradation."
   ]
  },
  {
   "cell_type": "markdown",
   "metadata": {},
   "source": [
    "<h5>Rated range when new</h5>"
   ]
  },
  {
   "cell_type": "markdown",
   "metadata": {},
   "source": [
    "This variable might help us deterimine how the original range of the new car which is determined by the battery size can influence the remaining range."
   ]
  },
  {
   "cell_type": "code",
   "execution_count": 40,
   "metadata": {},
   "outputs": [
    {
     "data": {
      "image/png": "[encoded data removed]",
      "text/plain": [
       "<matplotlib.figure.Figure at 0x1a1d439cd0>"
      ]
     },
     "metadata": {},
     "output_type": "display_data"
    }
   ],
   "source": [
    "plt.scatter(tesla_survey['range_when_new'], tesla_survey['remaining_range'])\n",
    "plt.xlabel('Rated range of this model when new')\n",
    "plt.ylabel('Remaining range')\n",
    "plt.title('Remaining range with respect to rated range of a new car')\n",
    "plt.show()"
   ]
  },
  {
   "cell_type": "markdown",
   "metadata": {},
   "source": [
    "There is no clear relationship between the rated range of a new car and its remaining range."
   ]
  },
  {
   "cell_type": "markdown",
   "metadata": {},
   "source": [
    "<h5>Frequency of supercharging, 100% charge, and almost empty charge</h5>"
   ]
  },
  {
   "cell_type": "code",
   "execution_count": 138,
   "metadata": {},
   "outputs": [
    {
     "data": {
      "text/plain": [
       "D) twice a month           314\n",
       "E) monthly                 230\n",
       "F) a few times a year      204\n",
       "C) weekly                  164\n",
       "NaN                         96\n",
       "B) twice a week             83\n",
       "H) never                    23\n",
       "A) daily                    22\n",
       "G) once or twice a year     20\n",
       "Name: supercharging_frequency, dtype: int64"
      ]
     },
     "execution_count": 138,
     "metadata": {},
     "output_type": "execute_result"
    }
   ],
   "source": [
    "tesla_survey['supercharging_frequency'].value_counts()"
   ]
  },
  {
   "cell_type": "code",
   "execution_count": 140,
   "metadata": {},
   "outputs": [
    {
     "data": {
      "image/png": "[encoded data removed]",
      "text/plain": [
       "<matplotlib.figure.Figure at 0x1a1d0638d0>"
      ]
     },
     "metadata": {},
     "output_type": "display_data"
    }
   ],
   "source": [
    "tesla_copy3 = tesla_survey.copy()\n",
    "tesla_copy3 = tesla_copy3.dropna(subset=['supercharging_frequency'])\n",
    "sns.set_style('whitegrid')\n",
    "sns.set_style('ticks')\n",
    "plt.figure(figsize=(11.8, 7))\n",
    "sns.countplot(data=tesla_survey, y='supercharging_frequency', color='magenta')\n",
    "sns.despine()\n",
    "plt.xlabel('Number of users', fontsize=14)\n",
    "plt.ylabel('Frequency', fontsize=14)\n",
    "plt.title('Frequency of supercharging', fontsize=16)\n",
    "plt.show()"
   ]
  },
  {
   "cell_type": "markdown",
   "metadata": {},
   "source": [
    "It seems like the majority of drivers supercharge their cars twice a month"
   ]
  },
  {
   "cell_type": "code",
   "execution_count": 43,
   "metadata": {
    "scrolled": false
   },
   "outputs": [
    {
     "data": {
      "image/png": "[encoded data removed]",
      "text/plain": [
       "<matplotlib.figure.Figure at 0x1a1d4fc950>"
      ]
     },
     "metadata": {},
     "output_type": "display_data"
    }
   ],
   "source": [
    "#check how remaining range is affected by frequency of supercharging\n",
    "sns.set_style(\"whitegrid\")\n",
    "plt.figure(figsize=(15, 10))\n",
    "ax = sns.boxplot(x='supercharging_frequency', y='remaining_range', data=tesla_survey)\n",
    "plt.xlabel('Supercharging frequency', fontsize=14)\n",
    "plt.ylabel('Remaining range', fontsize=14)\n",
    "plt.show()"
   ]
  },
  {
   "cell_type": "markdown",
   "metadata": {},
   "source": [
    "Supercharging frequency does not seem to affect the remaining range"
   ]
  },
  {
   "cell_type": "code",
   "execution_count": 92,
   "metadata": {},
   "outputs": [
    {
     "data": {
      "text/plain": [
       "F) a few times a year      419\n",
       "E) monthly                 308\n",
       "D) twice a month           147\n",
       "G) once or twice a year     68\n",
       "C) weekly                   47\n",
       "H) never                    30\n",
       "A) daily                    29\n",
       "B) twice a week              8\n",
       "Name: full_charge_frequency, dtype: int64"
      ]
     },
     "execution_count": 92,
     "metadata": {},
     "output_type": "execute_result"
    }
   ],
   "source": [
    "tesla_survey['full_charge_frequency'].value_counts()"
   ]
  },
  {
   "cell_type": "code",
   "execution_count": 116,
   "metadata": {},
   "outputs": [],
   "source": [
    "tesla_copy = tesla_survey.copy()\n",
    "tesla_copy = tesla_copy.dropna(subset=['full_charge_frequency'])"
   ]
  },
  {
   "cell_type": "code",
   "execution_count": 117,
   "metadata": {},
   "outputs": [
    {
     "data": {
      "text/plain": [
       "{u'A) daily': 0.019443135478656195,\n",
       " u'D) twice a month': 0.02528144879460852,\n",
       " u'E) monthly': 0.024722243968581876,\n",
       " u'F) a few times a year': 0.024359405813475232,\n",
       " u'G) once or twice a year': 0.03285486598742719,\n",
       " u'H) never': 0.028150687298932844,\n",
       " 'I) once or twice a week': 0.03643192840637737}"
      ]
     },
     "execution_count": 117,
     "metadata": {},
     "output_type": "execute_result"
    }
   ],
   "source": [
    "tesla_copy.loc[tesla_copy.full_charge_frequency == 'B) twice a week', 'full_charge_frequency'] = 'C) weekly'\n",
    "tesla_copy.loc[tesla_copy.full_charge_frequency == 'C) weekly', 'full_charge_frequency'] = 'I) once or twice a week'\n",
    "\n",
    "frequencies = pd.unique(tesla_copy['full_charge_frequency'])\n",
    "freq_dict = {}\n",
    "for el in frequencies:\n",
    "    cond = tesla_copy.full_charge_frequency == el\n",
    "    freq_dict[el] = tesla_copy[cond].remaining_range.std()\n",
    "freq_dict"
   ]
  },
  {
   "cell_type": "code",
   "execution_count": 118,
   "metadata": {
    "scrolled": false
   },
   "outputs": [
    {
     "data": {
      "image/png": "[encoded data removed]",
      "text/plain": [
       "<matplotlib.figure.Figure at 0x1a13f496d0>"
      ]
     },
     "metadata": {},
     "output_type": "display_data"
    }
   ],
   "source": [
    "#check how remaining range is affected by frequency of 100% charge\n",
    "sns.set_style(\"whitegrid\")\n",
    "plt.figure(figsize=(15, 10))\n",
    "ax = sns.boxplot(x='full_charge_frequency', y='remaining_range', data=tesla_copy)\n",
    "plt.xlabel('Full charge frequency', fontsize=14)\n",
    "plt.ylabel('Remaining range', fontsize=14)\n",
    "plt.show()"
   ]
  },
  {
   "cell_type": "markdown",
   "metadata": {},
   "source": [
    "It is evident that having a full charge daily might negatively affect the remaining range."
   ]
  },
  {
   "cell_type": "code",
   "execution_count": 119,
   "metadata": {},
   "outputs": [
    {
     "data": {
      "text/plain": [
       "H) never                   388\n",
       "G) once or twice a year    296\n",
       "F) a few times a year      281\n",
       "E) monthly                  61\n",
       "D) twice a month            18\n",
       "C) weekly                    6\n",
       "B) twice a week              1\n",
       "Name: empty_charge_frequency, dtype: int64"
      ]
     },
     "execution_count": 119,
     "metadata": {},
     "output_type": "execute_result"
    }
   ],
   "source": [
    "tesla_copy.empty_charge_frequency.value_counts()"
   ]
  },
  {
   "cell_type": "code",
   "execution_count": 148,
   "metadata": {},
   "outputs": [
    {
     "data": {
      "text/plain": [
       "H) never                        388\n",
       "G) once or twice a year         297\n",
       "F) a few times a year           285\n",
       "E) monthly                       61\n",
       "J) one to four times a month     25\n",
       "Name: empty_charge_frequency, dtype: int64"
      ]
     },
     "execution_count": 148,
     "metadata": {},
     "output_type": "execute_result"
    }
   ],
   "source": [
    "tesla_copy4 = tesla_survey.copy()\n",
    "tesla_copy4 = tesla_copy4.dropna(subset=['empty_charge_frequency'])\n",
    "\n",
    "tesla_copy4.loc[(tesla_copy4.empty_charge_frequency == 'B) twice a week')| (tesla_copy4.empty_charge_frequency == 'D) twice a month'), 'empty_charge_frequency'] = 'C) weekly'\n",
    "tesla_copy4.loc[tesla_copy4.empty_charge_frequency == 'C) weekly', 'empty_charge_frequency'] = u'J) one to four times a month'\n",
    "tesla_copy4.empty_charge_frequency.value_counts(dropna = False)"
   ]
  },
  {
   "cell_type": "code",
   "execution_count": 149,
   "metadata": {},
   "outputs": [
    {
     "data": {
      "text/plain": [
       "{u'E) monthly': 0.026853642485780184,\n",
       " u'F) a few times a year': 0.02506970500856969,\n",
       " u'G) once or twice a year': 0.02612909463858414,\n",
       " u'H) never': 0.025174392299277534,\n",
       " u'J) one to four times a month': 0.029062662185927384}"
      ]
     },
     "execution_count": 149,
     "metadata": {},
     "output_type": "execute_result"
    }
   ],
   "source": [
    "frequencies2 = pd.unique(tesla_copy4['empty_charge_frequency'])\n",
    "freq_dict2 = {}\n",
    "for el in frequencies2:\n",
    "    cond = tesla_copy4.empty_charge_frequency == el\n",
    "    freq_dict2[el] = tesla_copy4[cond].remaining_range.std()\n",
    "freq_dict2"
   ]
  },
  {
   "cell_type": "code",
   "execution_count": 150,
   "metadata": {},
   "outputs": [
    {
     "data": {
      "text/plain": [
       "<matplotlib.figure.Figure at 0x1a1ce82e90>"
      ]
     },
     "execution_count": 150,
     "metadata": {},
     "output_type": "execute_result"
    },
    {
     "data": {
      "text/plain": [
       "Text(0.5,0,u'Empty charge frequency')"
      ]
     },
     "execution_count": 150,
     "metadata": {},
     "output_type": "execute_result"
    },
    {
     "data": {
      "text/plain": [
       "Text(0,0.5,u'Remaining range')"
      ]
     },
     "execution_count": 150,
     "metadata": {},
     "output_type": "execute_result"
    },
    {
     "data": {
      "image/png": "[encoded data removed]",
      "text/plain": [
       "<matplotlib.figure.Figure at 0x1a1ce82e90>"
      ]
     },
     "metadata": {},
     "output_type": "display_data"
    }
   ],
   "source": [
    "#check how remaining range is affected by frequency of empty charge\n",
    "sns.set_style(\"whitegrid\")\n",
    "plt.figure(figsize=(15, 10))\n",
    "ax = sns.boxplot(x='empty_charge_frequency', y='remaining_range', data=tesla_copy4)\n",
    "plt.xlabel('Empty charge frequency', fontsize=14)\n",
    "plt.ylabel('Remaining range', fontsize=14)\n",
    "plt.show()"
   ]
  },
  {
   "cell_type": "markdown",
   "metadata": {},
   "source": [
    "Relationship between the empty charge frequency and remaining range is not clear."
   ]
  },
  {
   "cell_type": "markdown",
   "metadata": {},
   "source": [
    "<h5>Daily charge level</h5>"
   ]
  },
  {
   "cell_type": "code",
   "execution_count": 133,
   "metadata": {},
   "outputs": [
    {
     "data": {
      "text/plain": [
       "0.9    429\n",
       "0.8    297\n",
       "0.7    101\n",
       "1.0     30\n",
       "0.6     22\n",
       "0.5      6\n",
       "Name: daily_charge, dtype: int64"
      ]
     },
     "execution_count": 133,
     "metadata": {},
     "output_type": "execute_result"
    }
   ],
   "source": [
    "tesla_copy.daily_charge.value_counts()"
   ]
  },
  {
   "cell_type": "code",
   "execution_count": 158,
   "metadata": {
    "collapsed": true
   },
   "outputs": [],
   "source": [
    "tesla_copy1 = tesla_copy.dropna(subset=['daily_charge'])\n",
    "tesla_copy1.loc[tesla_copy1.daily_charge == 0.5, 'daily_charge'] = 0.6"
   ]
  },
  {
   "cell_type": "code",
   "execution_count": 159,
   "metadata": {},
   "outputs": [
    {
     "data": {
      "text/plain": [
       "{0.59999999999999998: 0.03159247951498525,\n",
       " 0.69999999999999996: 0.023804811852369958,\n",
       " 0.80000000000000004: 0.026066766336013125,\n",
       " 0.90000000000000002: 0.028176124709758988,\n",
       " 1.0: 0.02517025246586537}"
      ]
     },
     "execution_count": 159,
     "metadata": {},
     "output_type": "execute_result"
    }
   ],
   "source": [
    "frequencies3 = pd.unique(tesla_copy1['daily_charge'])\n",
    "freq_dict3 = {}\n",
    "for el in frequencies3:\n",
    "    cond = tesla_copy1.daily_charge == el\n",
    "    freq_dict3[el] = tesla_copy1[cond].remaining_range.std()\n",
    "freq_dict3"
   ]
  },
  {
   "cell_type": "code",
   "execution_count": 160,
   "metadata": {},
   "outputs": [
    {
     "data": {
      "text/plain": [
       "<matplotlib.figure.Figure at 0x1a1ce7c7d0>"
      ]
     },
     "execution_count": 160,
     "metadata": {},
     "output_type": "execute_result"
    },
    {
     "data": {
      "text/plain": [
       "Text(0.5,0,u'Daily charge')"
      ]
     },
     "execution_count": 160,
     "metadata": {},
     "output_type": "execute_result"
    },
    {
     "data": {
      "text/plain": [
       "Text(0,0.5,u'Remaining range')"
      ]
     },
     "execution_count": 160,
     "metadata": {},
     "output_type": "execute_result"
    },
    {
     "data": {
      "image/png": "[encoded data removed]",
      "text/plain": [
       "<matplotlib.figure.Figure at 0x1a1ce7c7d0>"
      ]
     },
     "metadata": {},
     "output_type": "display_data"
    }
   ],
   "source": [
    "#check how remaining range is affected by daily charge\n",
    "sns.set_style(\"whitegrid\")\n",
    "plt.figure(figsize=(15, 10))\n",
    "ax = sns.boxplot(x='daily_charge', y='remaining_range', data=tesla_copy1)\n",
    "plt.xlabel('Daily charge', fontsize=14)\n",
    "plt.ylabel('Remaining range', fontsize=14)\n",
    "plt.show()"
   ]
  },
  {
   "cell_type": "markdown",
   "metadata": {},
   "source": [
    "It is pretty evident that having 80% daily charge results in a much better remaining range while having a 100% daily charge might affect the remaining range negatively. "
   ]
  },
  {
   "cell_type": "markdown",
   "metadata": {},
   "source": [
    "<h3>Location</h3>"
   ]
  },
  {
   "cell_type": "code",
   "execution_count": 67,
   "metadata": {},
   "outputs": [],
   "source": [
    "tesla_survey.loc[tesla_survey.location == 'usa', 'location'] = 'USA'"
   ]
  },
  {
   "cell_type": "code",
   "execution_count": 166,
   "metadata": {
    "collapsed": true
   },
   "outputs": [],
   "source": [
    "location_merge = tesla_survey.copy()\n",
    "location_merge.loc[location_merge.location == 'Asia Pacific & Europe (excl UK)', 'location'] = 'Asia & Europe'\n",
    "location_merge.loc[location_merge.location == 'UK', 'location'] = 'Asia & Europe'"
   ]
  },
  {
   "cell_type": "code",
   "execution_count": 168,
   "metadata": {},
   "outputs": [
    {
     "data": {
      "text/plain": [
       "<matplotlib.figure.Figure at 0x1a1d2c0a10>"
      ]
     },
     "execution_count": 168,
     "metadata": {},
     "output_type": "execute_result"
    },
    {
     "data": {
      "text/plain": [
       "Text(0.5,0,u'Location')"
      ]
     },
     "execution_count": 168,
     "metadata": {},
     "output_type": "execute_result"
    },
    {
     "data": {
      "text/plain": [
       "Text(0,0.5,u'Remaining range')"
      ]
     },
     "execution_count": 168,
     "metadata": {},
     "output_type": "execute_result"
    },
    {
     "data": {
      "image/png": "[encoded data removed]",
      "text/plain": [
       "<matplotlib.figure.Figure at 0x1a1d2c0a10>"
      ]
     },
     "metadata": {},
     "output_type": "display_data"
    }
   ],
   "source": [
    "#check how remaining range is affected by daily charge\n",
    "sns.set_style(\"whitegrid\")\n",
    "plt.figure(figsize=(15, 10))\n",
    "ax = sns.boxplot(x='location', y='remaining_range', data=location_merge)\n",
    "plt.xlabel('Location', fontsize=14)\n",
    "plt.ylabel('Remaining range', fontsize=14)\n",
    "plt.show()"
   ]
  },
  {
   "cell_type": "code",
   "execution_count": 71,
   "metadata": {
    "collapsed": true,
    "scrolled": false
   },
   "outputs": [],
   "source": [
    "new_tesla = tesla_survey.dropna(subset=['manufacture_date'])"
   ]
  },
  {
   "cell_type": "code",
   "execution_count": 72,
   "metadata": {
    "scrolled": false
   },
   "outputs": [
    {
     "data": {
      "text/html": [
       "<div>\n",
       "<style>\n",
       "    .dataframe thead tr:only-child th {\n",
       "        text-align: right;\n",
       "    }\n",
       "\n",
       "    .dataframe thead th {\n",
       "        text-align: left;\n",
       "    }\n",
       "\n",
       "    .dataframe tbody tr th {\n",
       "        vertical-align: top;\n",
       "    }\n",
       "</style>\n",
       "<table border=\"1\" class=\"dataframe\">\n",
       "  <thead>\n",
       "    <tr style=\"text-align: right;\">\n",
       "      <th></th>\n",
       "      <th>id</th>\n",
       "      <th>username</th>\n",
       "      <th>location</th>\n",
       "      <th>manufacture_date</th>\n",
       "      <th>range_reading_date</th>\n",
       "      <th>model</th>\n",
       "      <th>mileage</th>\n",
       "      <th>mileage_per_day</th>\n",
       "      <th>range_at_full</th>\n",
       "      <th>range_mode</th>\n",
       "      <th>...</th>\n",
       "      <th>new_car_range</th>\n",
       "      <th>range_mode_new</th>\n",
       "      <th>comments</th>\n",
       "      <th>range_mode_adjustment</th>\n",
       "      <th>vehicle_age</th>\n",
       "      <th>vehicle_cycles</th>\n",
       "      <th>mileage_in_km</th>\n",
       "      <th>wh_km</th>\n",
       "      <th>average_capacity_according_to_chart</th>\n",
       "      <th>deviation_in_capacity</th>\n",
       "    </tr>\n",
       "  </thead>\n",
       "  <tbody>\n",
       "    <tr>\n",
       "      <th>758</th>\n",
       "      <td>759</td>\n",
       "      <td>gec</td>\n",
       "      <td>Asia Pacific &amp; Europe (excl UK)</td>\n",
       "      <td>2014-12-04</td>\n",
       "      <td>2017-04-28</td>\n",
       "      <td>Model S 85</td>\n",
       "      <td>21427.978935</td>\n",
       "      <td>24.419880</td>\n",
       "      <td>238.606464</td>\n",
       "      <td>Off</td>\n",
       "      <td>...</td>\n",
       "      <td>NaN</td>\n",
       "      <td>NaN</td>\n",
       "      <td>NaN</td>\n",
       "      <td>NaN</td>\n",
       "      <td>877.0</td>\n",
       "      <td>NaN</td>\n",
       "      <td>34485.0</td>\n",
       "      <td>NaN</td>\n",
       "      <td>0.962664</td>\n",
       "      <td>0.011936</td>\n",
       "    </tr>\n",
       "    <tr>\n",
       "      <th>759</th>\n",
       "      <td>760</td>\n",
       "      <td>jvds</td>\n",
       "      <td>Asia Pacific &amp; Europe (excl UK)</td>\n",
       "      <td>2015-09-19</td>\n",
       "      <td>2017-04-29</td>\n",
       "      <td>Model S 70D</td>\n",
       "      <td>20373.512348</td>\n",
       "      <td>34.610365</td>\n",
       "      <td>214.372995</td>\n",
       "      <td>Off</td>\n",
       "      <td>...</td>\n",
       "      <td>352.0</td>\n",
       "      <td>Off</td>\n",
       "      <td>19\" summer</td>\n",
       "      <td>356.0</td>\n",
       "      <td>589.0</td>\n",
       "      <td>NaN</td>\n",
       "      <td>32788.0</td>\n",
       "      <td>NaN</td>\n",
       "      <td>0.963581</td>\n",
       "      <td>-0.006381</td>\n",
       "    </tr>\n",
       "    <tr>\n",
       "      <th>824</th>\n",
       "      <td>825</td>\n",
       "      <td>gec</td>\n",
       "      <td>Asia Pacific &amp; Europe (excl UK)</td>\n",
       "      <td>2014-12-04</td>\n",
       "      <td>2017-08-11</td>\n",
       "      <td>Model S 85</td>\n",
       "      <td>24824.392821</td>\n",
       "      <td>25.289800</td>\n",
       "      <td>238.606464</td>\n",
       "      <td>Off</td>\n",
       "      <td>...</td>\n",
       "      <td>NaN</td>\n",
       "      <td>NaN</td>\n",
       "      <td>NaN</td>\n",
       "      <td>NaN</td>\n",
       "      <td>982.0</td>\n",
       "      <td>NaN</td>\n",
       "      <td>39951.0</td>\n",
       "      <td>NaN</td>\n",
       "      <td>0.960033</td>\n",
       "      <td>0.014567</td>\n",
       "    </tr>\n",
       "    <tr>\n",
       "      <th>829</th>\n",
       "      <td>830</td>\n",
       "      <td>WhiteStorm</td>\n",
       "      <td>Asia Pacific &amp; Europe (excl UK)</td>\n",
       "      <td>2017-05-09</td>\n",
       "      <td>2017-08-15</td>\n",
       "      <td>Model S P100D</td>\n",
       "      <td>6024.191845</td>\n",
       "      <td>60.832221</td>\n",
       "      <td>300.743564</td>\n",
       "      <td>On</td>\n",
       "      <td>...</td>\n",
       "      <td>488.0</td>\n",
       "      <td>On</td>\n",
       "      <td>NaN</td>\n",
       "      <td>488.0</td>\n",
       "      <td>99.0</td>\n",
       "      <td>NaN</td>\n",
       "      <td>9695.0</td>\n",
       "      <td>NaN</td>\n",
       "      <td>0.983891</td>\n",
       "      <td>0.007909</td>\n",
       "    </tr>\n",
       "    <tr>\n",
       "      <th>912</th>\n",
       "      <td>913</td>\n",
       "      <td>lcs.toulouse</td>\n",
       "      <td>Asia Pacific &amp; Europe (excl UK)</td>\n",
       "      <td>2016-04-01</td>\n",
       "      <td>2017-11-19</td>\n",
       "      <td>Model S 90D</td>\n",
       "      <td>23254.809675</td>\n",
       "      <td>38.897825</td>\n",
       "      <td>270.917756</td>\n",
       "      <td>Off</td>\n",
       "      <td>...</td>\n",
       "      <td>458.0</td>\n",
       "      <td>Off</td>\n",
       "      <td>19'', tires replaced at 30tkm front, 35tkm rear</td>\n",
       "      <td>464.0</td>\n",
       "      <td>598.0</td>\n",
       "      <td>NaN</td>\n",
       "      <td>37425.0</td>\n",
       "      <td>NaN</td>\n",
       "      <td>0.961192</td>\n",
       "      <td>0.015608</td>\n",
       "    </tr>\n",
       "    <tr>\n",
       "      <th>913</th>\n",
       "      <td>914</td>\n",
       "      <td>eric verlaet</td>\n",
       "      <td>Asia Pacific &amp; Europe (excl UK)</td>\n",
       "      <td>2015-09-15</td>\n",
       "      <td>2017-11-19</td>\n",
       "      <td>Model S 70D</td>\n",
       "      <td>63844.627508</td>\n",
       "      <td>80.094722</td>\n",
       "      <td>218.722592</td>\n",
       "      <td>On</td>\n",
       "      <td>...</td>\n",
       "      <td>NaN</td>\n",
       "      <td>NaN</td>\n",
       "      <td>NaN</td>\n",
       "      <td>NaN</td>\n",
       "      <td>797.0</td>\n",
       "      <td>NaN</td>\n",
       "      <td>102748.0</td>\n",
       "      <td>NaN</td>\n",
       "      <td>0.944489</td>\n",
       "      <td>0.019911</td>\n",
       "    </tr>\n",
       "    <tr>\n",
       "      <th>914</th>\n",
       "      <td>915</td>\n",
       "      <td>raptorsf</td>\n",
       "      <td>Asia Pacific &amp; Europe (excl UK)</td>\n",
       "      <td>2017-09-13</td>\n",
       "      <td>2017-11-20</td>\n",
       "      <td>Model S 75D</td>\n",
       "      <td>1988.387200</td>\n",
       "      <td>28.831614</td>\n",
       "      <td>241.713319</td>\n",
       "      <td>On</td>\n",
       "      <td>...</td>\n",
       "      <td>NaN</td>\n",
       "      <td>NaN</td>\n",
       "      <td>NaN</td>\n",
       "      <td>NaN</td>\n",
       "      <td>69.0</td>\n",
       "      <td>NaN</td>\n",
       "      <td>3200.0</td>\n",
       "      <td>NaN</td>\n",
       "      <td>0.993929</td>\n",
       "      <td>0.008671</td>\n",
       "    </tr>\n",
       "    <tr>\n",
       "      <th>918</th>\n",
       "      <td>919</td>\n",
       "      <td>Lucas</td>\n",
       "      <td>Asia Pacific &amp; Europe (excl UK)</td>\n",
       "      <td>2016-09-28</td>\n",
       "      <td>2017-12-01</td>\n",
       "      <td>Model X 90D</td>\n",
       "      <td>35055.887707</td>\n",
       "      <td>81.523875</td>\n",
       "      <td>229.907270</td>\n",
       "      <td>On</td>\n",
       "      <td>...</td>\n",
       "      <td>NaN</td>\n",
       "      <td>NaN</td>\n",
       "      <td>NaN</td>\n",
       "      <td>NaN</td>\n",
       "      <td>430.0</td>\n",
       "      <td>NaN</td>\n",
       "      <td>56417.0</td>\n",
       "      <td>NaN</td>\n",
       "      <td>0.954197</td>\n",
       "      <td>-0.040597</td>\n",
       "    </tr>\n",
       "    <tr>\n",
       "      <th>1053</th>\n",
       "      <td>1054</td>\n",
       "      <td>khattar</td>\n",
       "      <td>USA</td>\n",
       "      <td>2016-08-19</td>\n",
       "      <td>2017-05-01</td>\n",
       "      <td>Model S 60</td>\n",
       "      <td>8000.000000</td>\n",
       "      <td>31.300000</td>\n",
       "      <td>210.000000</td>\n",
       "      <td>On</td>\n",
       "      <td>...</td>\n",
       "      <td>210.0</td>\n",
       "      <td>Off</td>\n",
       "      <td>NaN</td>\n",
       "      <td>213.0</td>\n",
       "      <td>256.0</td>\n",
       "      <td>NaN</td>\n",
       "      <td>12875.0</td>\n",
       "      <td>NaN</td>\n",
       "      <td>0.979888</td>\n",
       "      <td>0.020112</td>\n",
       "    </tr>\n",
       "    <tr>\n",
       "      <th>1057</th>\n",
       "      <td>1058</td>\n",
       "      <td>hansenluu</td>\n",
       "      <td>USA</td>\n",
       "      <td>2016-09-20</td>\n",
       "      <td>2017-05-09</td>\n",
       "      <td>Model S 90D</td>\n",
       "      <td>8444.000000</td>\n",
       "      <td>36.400000</td>\n",
       "      <td>260.000000</td>\n",
       "      <td>Off</td>\n",
       "      <td>...</td>\n",
       "      <td>NaN</td>\n",
       "      <td>NaN</td>\n",
       "      <td>NaN</td>\n",
       "      <td>NaN</td>\n",
       "      <td>232.0</td>\n",
       "      <td>NaN</td>\n",
       "      <td>13589.0</td>\n",
       "      <td>NaN</td>\n",
       "      <td>0.979059</td>\n",
       "      <td>-0.086559</td>\n",
       "    </tr>\n",
       "    <tr>\n",
       "      <th>1071</th>\n",
       "      <td>1072</td>\n",
       "      <td>Alex F</td>\n",
       "      <td>USA</td>\n",
       "      <td>2016-03-01</td>\n",
       "      <td>2017-06-17</td>\n",
       "      <td>Model S 70D</td>\n",
       "      <td>17165.000000</td>\n",
       "      <td>36.200000</td>\n",
       "      <td>238.000000</td>\n",
       "      <td>Off</td>\n",
       "      <td>...</td>\n",
       "      <td>NaN</td>\n",
       "      <td>NaN</td>\n",
       "      <td>NaN</td>\n",
       "      <td>NaN</td>\n",
       "      <td>474.0</td>\n",
       "      <td>NaN</td>\n",
       "      <td>27624.0</td>\n",
       "      <td>NaN</td>\n",
       "      <td>0.966724</td>\n",
       "      <td>0.025076</td>\n",
       "    </tr>\n",
       "    <tr>\n",
       "      <th>1100</th>\n",
       "      <td>1101</td>\n",
       "      <td>namu</td>\n",
       "      <td>USA</td>\n",
       "      <td>2017-01-01</td>\n",
       "      <td>2017-10-30</td>\n",
       "      <td>Model S 75D</td>\n",
       "      <td>18827.000000</td>\n",
       "      <td>62.100000</td>\n",
       "      <td>256.000000</td>\n",
       "      <td>On</td>\n",
       "      <td>...</td>\n",
       "      <td>NaN</td>\n",
       "      <td>NaN</td>\n",
       "      <td>NaN</td>\n",
       "      <td>NaN</td>\n",
       "      <td>303.0</td>\n",
       "      <td>NaN</td>\n",
       "      <td>30299.0</td>\n",
       "      <td>NaN</td>\n",
       "      <td>0.965025</td>\n",
       "      <td>0.012075</td>\n",
       "    </tr>\n",
       "    <tr>\n",
       "      <th>1153</th>\n",
       "      <td>1154</td>\n",
       "      <td>Gary</td>\n",
       "      <td>UK</td>\n",
       "      <td>2017-03-17</td>\n",
       "      <td>2017-04-22</td>\n",
       "      <td>Model S 60D</td>\n",
       "      <td>2271.000000</td>\n",
       "      <td>61.400000</td>\n",
       "      <td>205.000000</td>\n",
       "      <td>Off</td>\n",
       "      <td>...</td>\n",
       "      <td>NaN</td>\n",
       "      <td>NaN</td>\n",
       "      <td>NaN</td>\n",
       "      <td>NaN</td>\n",
       "      <td>37.0</td>\n",
       "      <td>NaN</td>\n",
       "      <td>3655.0</td>\n",
       "      <td>NaN</td>\n",
       "      <td>0.993132</td>\n",
       "      <td>0.009768</td>\n",
       "    </tr>\n",
       "  </tbody>\n",
       "</table>\n",
       "<p>13 rows × 36 columns</p>\n",
       "</div>"
      ],
      "text/plain": [
       "        id      username                         location manufacture_date  \\\n",
       "758    759           gec  Asia Pacific & Europe (excl UK)       2014-12-04   \n",
       "759    760          jvds  Asia Pacific & Europe (excl UK)       2015-09-19   \n",
       "824    825           gec  Asia Pacific & Europe (excl UK)       2014-12-04   \n",
       "829    830    WhiteStorm  Asia Pacific & Europe (excl UK)       2017-05-09   \n",
       "912    913  lcs.toulouse  Asia Pacific & Europe (excl UK)       2016-04-01   \n",
       "913    914  eric verlaet  Asia Pacific & Europe (excl UK)       2015-09-15   \n",
       "914    915      raptorsf  Asia Pacific & Europe (excl UK)       2017-09-13   \n",
       "918    919         Lucas  Asia Pacific & Europe (excl UK)       2016-09-28   \n",
       "1053  1054       khattar                              USA       2016-08-19   \n",
       "1057  1058     hansenluu                              USA       2016-09-20   \n",
       "1071  1072        Alex F                              USA       2016-03-01   \n",
       "1100  1101          namu                              USA       2017-01-01   \n",
       "1153  1154          Gary                               UK       2017-03-17   \n",
       "\n",
       "     range_reading_date          model       mileage  mileage_per_day  \\\n",
       "758          2017-04-28     Model S 85  21427.978935        24.419880   \n",
       "759          2017-04-29    Model S 70D  20373.512348        34.610365   \n",
       "824          2017-08-11     Model S 85  24824.392821        25.289800   \n",
       "829          2017-08-15  Model S P100D   6024.191845        60.832221   \n",
       "912          2017-11-19    Model S 90D  23254.809675        38.897825   \n",
       "913          2017-11-19    Model S 70D  63844.627508        80.094722   \n",
       "914          2017-11-20    Model S 75D   1988.387200        28.831614   \n",
       "918          2017-12-01    Model X 90D  35055.887707        81.523875   \n",
       "1053         2017-05-01     Model S 60   8000.000000        31.300000   \n",
       "1057         2017-05-09    Model S 90D   8444.000000        36.400000   \n",
       "1071         2017-06-17    Model S 70D  17165.000000        36.200000   \n",
       "1100         2017-10-30    Model S 75D  18827.000000        62.100000   \n",
       "1153         2017-04-22    Model S 60D   2271.000000        61.400000   \n",
       "\n",
       "      range_at_full range_mode          ...            new_car_range  \\\n",
       "758      238.606464        Off          ...                      NaN   \n",
       "759      214.372995        Off          ...                    352.0   \n",
       "824      238.606464        Off          ...                      NaN   \n",
       "829      300.743564         On          ...                    488.0   \n",
       "912      270.917756        Off          ...                    458.0   \n",
       "913      218.722592         On          ...                      NaN   \n",
       "914      241.713319         On          ...                      NaN   \n",
       "918      229.907270         On          ...                      NaN   \n",
       "1053     210.000000         On          ...                    210.0   \n",
       "1057     260.000000        Off          ...                      NaN   \n",
       "1071     238.000000        Off          ...                      NaN   \n",
       "1100     256.000000         On          ...                      NaN   \n",
       "1153     205.000000        Off          ...                      NaN   \n",
       "\n",
       "     range_mode_new                                         comments  \\\n",
       "758             NaN                                              NaN   \n",
       "759             Off                                       19\" summer   \n",
       "824             NaN                                              NaN   \n",
       "829              On                                              NaN   \n",
       "912             Off  19'', tires replaced at 30tkm front, 35tkm rear   \n",
       "913             NaN                                              NaN   \n",
       "914             NaN                                              NaN   \n",
       "918             NaN                                              NaN   \n",
       "1053            Off                                              NaN   \n",
       "1057            NaN                                              NaN   \n",
       "1071            NaN                                              NaN   \n",
       "1100            NaN                                              NaN   \n",
       "1153            NaN                                              NaN   \n",
       "\n",
       "      range_mode_adjustment  vehicle_age  vehicle_cycles  mileage_in_km  \\\n",
       "758                     NaN        877.0             NaN        34485.0   \n",
       "759                   356.0        589.0             NaN        32788.0   \n",
       "824                     NaN        982.0             NaN        39951.0   \n",
       "829                   488.0         99.0             NaN         9695.0   \n",
       "912                   464.0        598.0             NaN        37425.0   \n",
       "913                     NaN        797.0             NaN       102748.0   \n",
       "914                     NaN         69.0             NaN         3200.0   \n",
       "918                     NaN        430.0             NaN        56417.0   \n",
       "1053                  213.0        256.0             NaN        12875.0   \n",
       "1057                    NaN        232.0             NaN        13589.0   \n",
       "1071                    NaN        474.0             NaN        27624.0   \n",
       "1100                    NaN        303.0             NaN        30299.0   \n",
       "1153                    NaN         37.0             NaN         3655.0   \n",
       "\n",
       "      wh_km  average_capacity_according_to_chart  deviation_in_capacity  \n",
       "758     NaN                             0.962664               0.011936  \n",
       "759     NaN                             0.963581              -0.006381  \n",
       "824     NaN                             0.960033               0.014567  \n",
       "829     NaN                             0.983891               0.007909  \n",
       "912     NaN                             0.961192               0.015608  \n",
       "913     NaN                             0.944489               0.019911  \n",
       "914     NaN                             0.993929               0.008671  \n",
       "918     NaN                             0.954197              -0.040597  \n",
       "1053    NaN                             0.979888               0.020112  \n",
       "1057    NaN                             0.979059              -0.086559  \n",
       "1071    NaN                             0.966724               0.025076  \n",
       "1100    NaN                             0.965025               0.012075  \n",
       "1153    NaN                             0.993132               0.009768  \n",
       "\n",
       "[13 rows x 36 columns]"
      ]
     },
     "execution_count": 72,
     "metadata": {},
     "output_type": "execute_result"
    }
   ],
   "source": [
    "new_tesla[new_tesla.lifetime_avg_energy_consumption.isnull()]"
   ]
  },
  {
   "cell_type": "code",
   "execution_count": 73,
   "metadata": {},
   "outputs": [],
   "source": [
    "empty = new_tesla.lifetime_avg_energy_consumption.isnull()\n",
    "def condition(region):\n",
    "    return empty & region\n",
    "asia = new_tesla.location == 'Asia Pacific & Europe (excl UK)'\n",
    "america = new_tesla.location == 'USA'\n",
    "britain = new_tesla.location == 'UK'\n",
    "empty = new_tesla.lifetime_avg_energy_consumption.isnull()\n",
    "new_tesla.loc[condition(asia), 'lifetime_avg_energy_consumption'] = 350.83612\n",
    "new_tesla.loc[condition(america), 'lifetime_avg_energy_consumption'] = 315\n",
    "new_tesla.loc[condition(britain), 'lifetime_avg_energy_consumption'] = 338"
   ]
  },
  {
   "cell_type": "code",
   "execution_count": 74,
   "metadata": {
    "collapsed": true
   },
   "outputs": [],
   "source": [
    "vampire_loss = 3.2\n",
    "battery_capacity = {'Model S 85': 77500, 'Model S 70D': 68800, 'Model S P100D': 98400, 'Model S 90D': 81800,\n",
    "                   'Model S 75D': 73200, 'Model X 90D': 81800, 'Model S 60': 58500, 'Model S 60D': 58500}\n",
    "no_vehicle_cycles = new_tesla.vehicle_cycles.isnull()\n",
    "\n",
    "def cycles_calculation(x):\n",
    "    cycles = (x.mileage * x.lifetime_avg_energy_consumption + vampire_loss * x.battery_age)/(0.5*(1+x.remaining_range)*battery_capacity[x.model])\n",
    "    return cycles\n",
    "vehicle_dict = {}\n",
    "for index, row in new_tesla.iterrows():\n",
    "    if np.isnan(row['vehicle_cycles']):\n",
    "        cycles = cycles_calculation(row)\n",
    "        vehicle_dict[row.id] = cycles\n",
    "for key, value in vehicle_dict.items():\n",
    "    df_id = new_tesla.id == key\n",
    "    new_tesla.loc[df_id, 'vehicle_cycles'] = value"
   ]
  },
  {
   "cell_type": "markdown",
   "metadata": {},
   "source": [
    "Let's check if any correlations between the battery age, mileage, vehicle cycles and remaining range are statistically significant."
   ]
  },
  {
   "cell_type": "markdown",
   "metadata": {},
   "source": [
    "<h4>Correlation between mileage and remaining range</h4>"
   ]
  },
  {
   "cell_type": "markdown",
   "metadata": {},
   "source": [
    "<h5>1. Setup an appropriate hypothesis test</h5>"
   ]
  },
  {
   "cell_type": "markdown",
   "metadata": {},
   "source": [
    "<ul>\n",
    "    <li>Ho: There is no correlation between the remaining range and mileage of a Tesla car</li>\n",
    "    <li>Ha: There is a correlation between the remaining range and mileage of a Tesla car</li>\n",
    "</ul>"
   ]
  },
  {
   "cell_type": "markdown",
   "metadata": {},
   "source": [
    "<h5>2. Compute the observed significance value</h5>"
   ]
  },
  {
   "cell_type": "markdown",
   "metadata": {},
   "source": [
    "In our case, it would be useful to determine the Pearson correlation coefficient between the mileage and the remaining range as it would measure the strength of a linear association between two variables. The value of the Pearson correlation ranges from -1 to 1 with 0 denoting the absence of correlation between two variables. According to the preliminary scatter plot, we could expect that the calculated Pearson correlation coefficient is negative as the high excess readmission rate is negatively correlated with the number of discharges."
   ]
  },
  {
   "cell_type": "code",
   "execution_count": 51,
   "metadata": {},
   "outputs": [
    {
     "name": "stdout",
     "output_type": "stream",
     "text": [
      "The Pearson correlation coefficient is -0.563524944352\n"
     ]
    }
   ],
   "source": [
    "def pearson_r(x,y):\n",
    "    corr_mat = np.corrcoef(x,y)\n",
    "    return corr_mat[0,1]\n",
    "\n",
    "r = pearson_r(tesla_survey.remaining_range, tesla_survey.mileage)\n",
    "print('The Pearson correlation coefficient is ' + str(r))"
   ]
  },
  {
   "cell_type": "markdown",
   "metadata": {},
   "source": [
    "We can deduce that there is a strong negative correlation between the remaining range and mileage of a tesla car. We can perform permutation to determine if the result is statistically significant."
   ]
  },
  {
   "cell_type": "code",
   "execution_count": 52,
   "metadata": {},
   "outputs": [
    {
     "name": "stdout",
     "output_type": "stream",
     "text": [
      "p-val = 0\n"
     ]
    }
   ],
   "source": [
    "# create permutation replicates and permute remaining_range array while keeping the mileage constant\n",
    "perm_replicates = np.empty(10000)\n",
    "for i in range(10000):\n",
    "    range_permuted = np.random.permutation(tesla_survey.remaining_range)\n",
    "    perm_replicates[i] = pearson_r(range_permuted, tesla_survey.mileage)\n",
    "p = np.sum(perm_replicates <= r)/len(perm_replicates)\n",
    "print('p-val = ' + str(p))"
   ]
  },
  {
   "cell_type": "markdown",
   "metadata": {},
   "source": [
    "<h5>3. Report statistical significance for α = .05</h5>"
   ]
  },
  {
   "cell_type": "markdown",
   "metadata": {},
   "source": [
    "With alpha = 0.05, we get that the p-value is small enough (much smaller than alpha) for us to reject the null hypothesis.<br />\n",
    "<strong>Conclusion: </strong>correlation between the remaining range and mileage of a Tesla car is statistically significant."
   ]
  },
  {
   "cell_type": "code",
   "execution_count": 53,
   "metadata": {
    "scrolled": true
   },
   "outputs": [
    {
     "data": {
      "image/png": "[encoded data removed]",
      "text/plain": [
       "<matplotlib.figure.Figure at 0x1a1d06e250>"
      ]
     },
     "metadata": {},
     "output_type": "display_data"
    }
   ],
   "source": [
    "# plot the remaining_range versus mileage\n",
    "_=plt.plot(tesla_survey.mileage, tesla_survey.remaining_range, marker='.',linestyle='none',alpha=0.2)\n",
    "plt.margins(0.02)\n",
    "_=plt.xlabel('Mileage(km)')\n",
    "_=plt.ylabel('Remaining range')\n",
    "_=plt.xlim((0,150000))\n",
    "# perform a linear regression using np.polyfit()\n",
    "a,b = np.polyfit(tesla_survey.mileage, tesla_survey.remaining_range, deg=1)\n",
    "# make theoretical line to plot\n",
    "x = np.array([0,150000])\n",
    "y = a*x + b\n",
    "# add regression line to the plot\n",
    "_ = plt.plot(x,y,color='magenta')\n",
    "plt.show()"
   ]
  },
  {
   "cell_type": "markdown",
   "metadata": {},
   "source": [
    "<h4>Correlation between battery age and remaining range</h4>"
   ]
  },
  {
   "cell_type": "markdown",
   "metadata": {},
   "source": [
    "<h5>1. Setup an appropriate hypothesis test</h5>"
   ]
  },
  {
   "cell_type": "markdown",
   "metadata": {},
   "source": [
    "<ul>\n",
    "    <li>Ho: There is no correlation between the remaining range and battery age of a Tesla car</li>\n",
    "    <li>Ha: There is a correlation between the remaining range and battery age of a Tesla car</li>\n",
    "</ul>"
   ]
  },
  {
   "cell_type": "markdown",
   "metadata": {},
   "source": [
    "<h4>2. Compute the observed significance value</h4>"
   ]
  },
  {
   "cell_type": "code",
   "execution_count": 54,
   "metadata": {},
   "outputs": [
    {
     "name": "stdout",
     "output_type": "stream",
     "text": [
      "The Pearson correlation coefficient is -0.558216371045\n"
     ]
    }
   ],
   "source": [
    "def pearson_r(x,y):\n",
    "    corr_mat = np.corrcoef(x,y)\n",
    "    return corr_mat[0,1]\n",
    "\n",
    "r = pearson_r(new_tesla.remaining_range, new_tesla.battery_age)\n",
    "print('The Pearson correlation coefficient is ' + str(r))"
   ]
  },
  {
   "cell_type": "markdown",
   "metadata": {},
   "source": [
    "We can deduce that there is a strong negative correlation between the remaining range and battery age of a tesla car. We can perform permutation to determine if the result is statistically significant."
   ]
  },
  {
   "cell_type": "code",
   "execution_count": 55,
   "metadata": {},
   "outputs": [
    {
     "name": "stdout",
     "output_type": "stream",
     "text": [
      "p-val = 0\n"
     ]
    }
   ],
   "source": [
    "# create permutation replicates and permute remaining_range array while keeping the mileage constant\n",
    "perm_replicates = np.empty(10000)\n",
    "for i in range(10000):\n",
    "    range_permuted = np.random.permutation(new_tesla.remaining_range)\n",
    "    perm_replicates[i] = pearson_r(range_permuted, new_tesla.battery_age)\n",
    "p = np.sum(perm_replicates <= r)/len(perm_replicates)\n",
    "print('p-val = ' + str(p))"
   ]
  },
  {
   "cell_type": "markdown",
   "metadata": {},
   "source": [
    "<h5>3. Report statistical significance for α = .05</h5>"
   ]
  },
  {
   "cell_type": "markdown",
   "metadata": {},
   "source": [
    "With alpha = 0.05, we get that the p-value is small enough (much smaller than alpha) for us to reject the null hypothesis.<br />\n",
    "<strong>Conclusion: </strong>correlation between the remaining range and battery age of a Tesla car is statistically significant."
   ]
  },
  {
   "cell_type": "markdown",
   "metadata": {},
   "source": [
    "<h4>Correlation between vehicle cycles and remaining range</h4>"
   ]
  },
  {
   "cell_type": "markdown",
   "metadata": {
    "collapsed": true
   },
   "source": [
    "<h5>1. Setup an appropriate hypothesis test</h5>"
   ]
  },
  {
   "cell_type": "markdown",
   "metadata": {},
   "source": [
    "<ul>\n",
    "    <li>Ho: There is no correlation between the remaining range and vehicle cycles of a Tesla car</li>\n",
    "    <li>Ha: There is a correlation between the remaining range and vehicle cycles of a Tesla car</li>\n",
    "</ul>"
   ]
  },
  {
   "cell_type": "markdown",
   "metadata": {},
   "source": [
    "<h4>2. Compute the observed significance value</h4>"
   ]
  },
  {
   "cell_type": "code",
   "execution_count": 56,
   "metadata": {},
   "outputs": [
    {
     "name": "stdout",
     "output_type": "stream",
     "text": [
      "The Pearson correlation coefficient is -0.583377686306\n"
     ]
    }
   ],
   "source": [
    "def pearson_r(x,y):\n",
    "    corr_mat = np.corrcoef(x,y)\n",
    "    return corr_mat[0,1]\n",
    "\n",
    "r = pearson_r(new_tesla.remaining_range, new_tesla.vehicle_cycles)\n",
    "print('The Pearson correlation coefficient is ' + str(r))"
   ]
  },
  {
   "cell_type": "code",
   "execution_count": 57,
   "metadata": {},
   "outputs": [
    {
     "name": "stdout",
     "output_type": "stream",
     "text": [
      "p-val = 0\n"
     ]
    }
   ],
   "source": [
    "# create permutation replicates and permute remaining_range array while keeping the mileage constant\n",
    "perm_replicates = np.empty(10000)\n",
    "for i in range(10000):\n",
    "    range_permuted = np.random.permutation(new_tesla.remaining_range)\n",
    "    perm_replicates[i] = pearson_r(range_permuted, new_tesla.vehicle_cycles)\n",
    "p = np.sum(perm_replicates <= r)/len(perm_replicates)\n",
    "print('p-val = ' + str(p))"
   ]
  },
  {
   "cell_type": "markdown",
   "metadata": {},
   "source": [
    "<h5>3. Report statistical significance for α = .05</h5>"
   ]
  },
  {
   "cell_type": "markdown",
   "metadata": {},
   "source": [
    "With alpha = 0.05, we get that the p-value is small enough (much smaller than alpha) for us to reject the null hypothesis.<br />\n",
    "<strong>Conclusion: </strong>correlation between the remaining range and vehicle cycles of a Tesla car is statistically significant."
   ]
  },
  {
   "cell_type": "markdown",
   "metadata": {},
   "source": [
    "<h4>Effect of supercharging frequency on remaining range</h4>"
   ]
  },
  {
   "cell_type": "markdown",
   "metadata": {},
   "source": [
    "<h5>1.Setup an appropriate hypothesis test</h5>"
   ]
  },
  {
   "cell_type": "markdown",
   "metadata": {},
   "source": [
    "<ul>\n",
    "    <li>Ho: The mean remaining range for all supercharging frequencies is the same. </li>\n",
    "    <li>Ha: Two or more means for remaining range are different from the others for supercharging frequencies</li>\n",
    "</ul>"
   ]
  },
  {
   "cell_type": "markdown",
   "metadata": {},
   "source": [
    "<h5>2.Compute the observed significance value</h5>"
   ]
  },
  {
   "cell_type": "code",
   "execution_count": 144,
   "metadata": {},
   "outputs": [
    {
     "name": "stdout",
     "output_type": "stream",
     "text": [
      "                           sum_sq      df         F    PR(>F)\n",
      "supercharging_frequency  0.007649     7.0  1.554605  0.145205\n",
      "Residual                 0.739416  1052.0       NaN       NaN\n"
     ]
    }
   ],
   "source": [
    "import statsmodels.api as sm\n",
    "from statsmodels.formula.api import ols\n",
    " \n",
    "mod = ols('remaining_range ~ supercharging_frequency',\n",
    "                data=tesla_copy3).fit()\n",
    "                \n",
    "aov_table = sm.stats.anova_lm(mod, typ=2)\n",
    "print aov_table"
   ]
  },
  {
   "cell_type": "markdown",
   "metadata": {},
   "source": [
    "<h5>3. Report statistical significance for α = .05</h5>"
   ]
  },
  {
   "cell_type": "markdown",
   "metadata": {},
   "source": [
    "With alpha = 0.05, we get that the p-value is not small enough (0.145 > 0.05) for us to reject the null hypothesis.<br />\n",
    "<strong>Conclusion: </strong>The means of remaining range for all supercharging frequencies are the same."
   ]
  },
  {
   "cell_type": "markdown",
   "metadata": {},
   "source": [
    "<h4>Effect of 100% charge frequency on remaining range</h4>"
   ]
  },
  {
   "cell_type": "markdown",
   "metadata": {},
   "source": [
    "<h5>1.Setup an appropriate hypothesis test</h5>"
   ]
  },
  {
   "cell_type": "markdown",
   "metadata": {},
   "source": [
    "<ul>\n",
    "    <li>Ho: The mean remaining range for all 100% battery charge frequencies is the same. </li>\n",
    "    <li>Ha: Two or more means for remaining range are different from the others for 100% battery charge frequencies</li>\n",
    "</ul>"
   ]
  },
  {
   "cell_type": "markdown",
   "metadata": {},
   "source": [
    "<h5>2.Compute the observed significance value</h5>"
   ]
  },
  {
   "cell_type": "code",
   "execution_count": 142,
   "metadata": {},
   "outputs": [
    {
     "name": "stdout",
     "output_type": "stream",
     "text": [
      "                         sum_sq      df         F        PR(>F)\n",
      "full_charge_frequency  0.039093     6.0  9.656523  2.310586e-10\n",
      "Residual               0.704408  1044.0       NaN           NaN\n"
     ]
    }
   ],
   "source": [
    "mod = ols('remaining_range ~ full_charge_frequency',\n",
    "                data=tesla_copy).fit()\n",
    "                \n",
    "aov_table = sm.stats.anova_lm(mod, typ=2)\n",
    "print aov_table"
   ]
  },
  {
   "cell_type": "markdown",
   "metadata": {},
   "source": [
    "<h5>3. Report statistical significance for α = .05</h5>"
   ]
  },
  {
   "cell_type": "markdown",
   "metadata": {},
   "source": [
    "With alpha = 0.05, we get that the p-value is small enough (much smaller than 0.05) for us to reject the null hypothesis.<br />\n",
    "<strong>Conclusion: </strong>Two or more means for remaining range are different from the others for 100% battery charge frequencies"
   ]
  },
  {
   "cell_type": "markdown",
   "metadata": {},
   "source": [
    "<h4>Effect of empty charge frequency on remaining range</h4>"
   ]
  },
  {
   "cell_type": "markdown",
   "metadata": {},
   "source": [
    "<h5>1.Setup an appropriate hypothesis test</h5>"
   ]
  },
  {
   "cell_type": "markdown",
   "metadata": {},
   "source": [
    "<ul>\n",
    "    <li>Ho: The mean remaining range for all empty battery charge frequencies is the same. </li>\n",
    "    <li>Ha: Two or more means for remaining range are different from the others for empty battery charge frequencies</li>\n",
    "</ul>"
   ]
  },
  {
   "cell_type": "markdown",
   "metadata": {},
   "source": [
    "<h5>2.Compute the observed significance value</h5>"
   ]
  },
  {
   "cell_type": "code",
   "execution_count": 151,
   "metadata": {},
   "outputs": [
    {
     "name": "stdout",
     "output_type": "stream",
     "text": [
      "                          sum_sq      df          F        PR(>F)\n",
      "empty_charge_frequency  0.058025     4.0  22.115775  1.504488e-17\n",
      "Residual                0.689379  1051.0        NaN           NaN\n"
     ]
    }
   ],
   "source": [
    "mod = ols('remaining_range ~ empty_charge_frequency',\n",
    "                data=tesla_copy4mod = ols('remaining_range ~ full_charge_frequency',\n",
    "                data=tesla_copy).fit()\n",
    "                \n",
    "aov_table = sm.stats.anova_lm(mod, typ=2)\n",
    "print aov_table"
   ]
  },
  {
   "cell_type": "markdown",
   "metadata": {},
   "source": [
    "<h5>3. Report statistical significance for α = .05</h5>"
   ]
  },
  {
   "cell_type": "markdown",
   "metadata": {},
   "source": [
    "With alpha = 0.05, we get that the p-value is small enough (much smaller than 0.05) for us to reject the null hypothesis.<br />\n",
    "<strong>Conclusion: </strong>Two or more means for remaining range are different from the others for empty battery charge frequencies"
   ]
  },
  {
   "cell_type": "markdown",
   "metadata": {},
   "source": [
    "<h4>Effect of daily charge level on remaining range</h4>"
   ]
  },
  {
   "cell_type": "markdown",
   "metadata": {},
   "source": [
    "<h5>1.Setup an appropriate hypothesis test</h5>"
   ]
  },
  {
   "cell_type": "markdown",
   "metadata": {},
   "source": [
    "<ul>\n",
    "    <li>Ho: The mean remaining range for all daily charge levels is the same. </li>\n",
    "    <li>Ha: Two or more means for remaining range are different from the others for daily charge levels</li>\n",
    "</ul>"
   ]
  },
  {
   "cell_type": "markdown",
   "metadata": {},
   "source": [
    "<h5>2.Compute the observed significance value</h5>"
   ]
  },
  {
   "cell_type": "code",
   "execution_count": 163,
   "metadata": {},
   "outputs": [],
   "source": [
    "tesla_copy1.loc[tesla_copy1.daily_charge == 0.6, 'daily_charge'] = '60%'\n",
    "tesla_copy1.loc[tesla_copy1.daily_charge == 0.7, 'daily_charge'] = '70%'\n",
    "tesla_copy1.loc[tesla_copy1.daily_charge == 0.8, 'daily_charge'] = '80%'\n",
    "tesla_copy1.loc[tesla_copy1.daily_charge == 0.9, 'daily_charge'] = '90%'\n",
    "tesla_copy1.loc[tesla_copy1.daily_charge == 1, 'daily_charge'] = '100%'"
   ]
  },
  {
   "cell_type": "code",
   "execution_count": 164,
   "metadata": {},
   "outputs": [
    {
     "data": {
      "text/plain": [
       "90%     429\n",
       "80%     297\n",
       "70%     101\n",
       "100%     30\n",
       "60%      28\n",
       "Name: daily_charge, dtype: int64"
      ]
     },
     "execution_count": 164,
     "metadata": {},
     "output_type": "execute_result"
    }
   ],
   "source": [
    "tesla_copy1.daily_charge.value_counts()"
   ]
  },
  {
   "cell_type": "code",
   "execution_count": 165,
   "metadata": {},
   "outputs": [
    {
     "name": "stdout",
     "output_type": "stream",
     "text": [
      "               sum_sq     df         F        PR(>F)\n",
      "daily_charge  0.02562    4.0  8.767241  6.090244e-07\n",
      "Residual      0.64290  880.0       NaN           NaN\n"
     ]
    }
   ],
   "source": [
    "mod = ols('remaining_range ~ daily_charge',\n",
    "                data=tesla_copy1).fit()\n",
    "                \n",
    "aov_table = sm.stats.anova_lm(mod, typ=2)\n",
    "print aov_table"
   ]
  },
  {
   "cell_type": "markdown",
   "metadata": {},
   "source": [
    "<h5>3. Report statistical significance for α = .05</h5>"
   ]
  },
  {
   "cell_type": "markdown",
   "metadata": {},
   "source": [
    "With alpha = 0.05, we get that the p-value is small enough (much smaller than 0.05) for us to reject the null hypothesis.<br />\n",
    "<strong>Conclusion: </strong>Two or more means for remaining range are different from the others for daily charge levels"
   ]
  },
  {
   "cell_type": "markdown",
   "metadata": {},
   "source": [
    "<h4>Effect of location on remaining range</h4>"
   ]
  },
  {
   "cell_type": "markdown",
   "metadata": {},
   "source": [
    "<h5>1.Setup an appropriate hypothesis test</h5>"
   ]
  },
  {
   "cell_type": "markdown",
   "metadata": {},
   "source": [
    "<ul>\n",
    "    <li>Ho: The mean remaining range for all locations is the same. </li>\n",
    "    <li>Ha: Two or more means for remaining range are different from the others for locations</li>\n",
    "</ul>"
   ]
  },
  {
   "cell_type": "markdown",
   "metadata": {},
   "source": [
    "<h5>2.Compute the observed significance value</h5>"
   ]
  },
  {
   "cell_type": "code",
   "execution_count": 169,
   "metadata": {},
   "outputs": [
    {
     "name": "stdout",
     "output_type": "stream",
     "text": [
      "            sum_sq      df         F    PR(>F)\n",
      "location  0.003315     2.0  2.292945  0.101429\n",
      "Residual  0.833590  1153.0       NaN       NaN\n"
     ]
    }
   ],
   "source": [
    "mod = ols('remaining_range ~ location',\n",
    "                data=location_merge).fit()\n",
    "                \n",
    "aov_table = sm.stats.anova_lm(mod, typ=2)\n",
    "print aov_table"
   ]
  },
  {
   "cell_type": "markdown",
   "metadata": {},
   "source": [
    "<h5>3. Report statistical significance for α = .05</h5>"
   ]
  },
  {
   "cell_type": "markdown",
   "metadata": {},
   "source": [
    "With alpha = 0.05, we get that the p-value is not small enough (0.101 > 0.05) for us to reject the null hypothesis.<br />\n",
    "<strong>Conclusion: </strong>The mean remaining range for all locations is the same"
   ]
  }
 ],
 "metadata": {
  "kernelspec": {
   "display_name": "Python 2",
   "language": "python",
   "name": "python2"
  },
  "language_info": {
   "codemirror_mode": {
    "name": "ipython",
    "version": 2
   },
   "file_extension": ".py",
   "mimetype": "text/x-python",
   "name": "python",
   "nbconvert_exporter": "python",
   "pygments_lexer": "ipython2",
   "version": "2.7.14"
  }
 },
 "nbformat": 4,
 "nbformat_minor": 2
}
