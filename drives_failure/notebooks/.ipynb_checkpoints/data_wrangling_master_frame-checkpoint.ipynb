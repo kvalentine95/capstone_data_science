{
 "cells": [
  {
   "cell_type": "markdown",
   "metadata": {},
   "source": [
    "<h2>Cleaning the Master DataFrame</h2>"
   ]
  },
  {
   "cell_type": "code",
   "execution_count": null,
   "metadata": {},
   "outputs": [],
   "source": [
    "#import necessary packages and convert csv master file to data frame\n",
    "import pandas as pd\n",
    "import numpy as np\n",
    "master_frame = pd.read_csv('master_dataframe.csv')\n",
    "master_frame.info()"
   ]
  },
  {
   "cell_type": "code",
   "execution_count": null,
   "metadata": {},
   "outputs": [],
   "source": [
    "#find columns with the most Null count\n",
    "master_frame.isnull().sum()"
   ]
  },
  {
   "cell_type": "markdown",
   "metadata": {},
   "source": [
    "Some SMART attributes (13, 15, 201, 255) are equal to NaN for all elements of the master_frame. Therefore, we will remove them from the data frame as they won't affect the prediction of failure for any given drive. \n"
   ]
  },
  {
   "cell_type": "code",
   "execution_count": null,
   "metadata": {},
   "outputs": [],
   "source": [
    "#remove null SMART attributes (13, 15, 201, 255)\n",
    "columns_to_remove = ['smart_13_normalized','smart_15_normalized','smart_201_normalized','smart_255_normalized']\n",
    "master_frame.drop(columns_to_remove, inplace=True, axis=1)\n",
    "master_frame.head(5)"
   ]
  },
  {
   "cell_type": "markdown",
   "metadata": {},
   "source": [
    "Null values in the serial_number column can become a problem as there is no indication to which drives the smart measurements belong. Therefore, we have to inspect the serial_number columns with null values. "
   ]
  },
  {
   "cell_type": "code",
   "execution_count": null,
   "metadata": {},
   "outputs": [],
   "source": [
    "#inspect the null serial_number columns\n",
    "master_frame[master_frame.serial_number.isnull()]"
   ]
  },
  {
   "cell_type": "markdown",
   "metadata": {},
   "source": [
    "It is quite evident that all null serial numbers belong to the same designated drive model (00MD00). After researching this model, it became apparent that this model drive simply does not exist. This might be explaned by inconsistency of some drives which provided incorrect measurements on certain days. Taking into account the sample size of the data set, we can drop the missing values. "
   ]
  },
  {
   "cell_type": "code",
   "execution_count": null,
   "metadata": {
    "collapsed": true
   },
   "outputs": [],
   "source": [
    "master_frame = master_frame.dropna(subset=['serial_number'])"
   ]
  },
  {
   "cell_type": "code",
   "execution_count": null,
   "metadata": {},
   "outputs": [],
   "source": [
    "master_frame.info()"
   ]
  },
  {
   "cell_type": "code",
   "execution_count": null,
   "metadata": {},
   "outputs": [],
   "source": [
    "master_frame.loc[:,'capacity_bytes'] *= pow(10,(-12))"
   ]
  },
  {
   "cell_type": "code",
   "execution_count": null,
   "metadata": {
    "collapsed": true
   },
   "outputs": [],
   "source": []
  }
 ],
 "metadata": {
  "kernelspec": {
   "display_name": "Python 2",
   "language": "python",
   "name": "python2"
  },
  "language_info": {
   "codemirror_mode": {
    "name": "ipython",
    "version": 2
   },
   "file_extension": ".py",
   "mimetype": "text/x-python",
   "name": "python",
   "nbconvert_exporter": "python",
   "pygments_lexer": "ipython2",
   "version": "2.7.14"
  }
 },
 "nbformat": 4,
 "nbformat_minor": 2
}
